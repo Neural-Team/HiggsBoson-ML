{
  "nbformat": 4,
  "nbformat_minor": 0,
  "metadata": {
    "colab": {
      "provenance": []
    },
    "kernelspec": {
      "name": "python3",
      "display_name": "Python 3"
    },
    "language_info": {
      "name": "python"
    },
    "gpuClass": "standard"
  },
  "cells": [
    {
      "cell_type": "code",
      "source": [
        "from google.colab import drive\n",
        "drive.mount('/content/drive')"
      ],
      "metadata": {
        "id": "IH_c-aBfnYoY",
        "colab": {
          "base_uri": "https://localhost:8080/"
        },
        "outputId": "7109e279-4111-425a-8a24-9b1b563da541"
      },
      "execution_count": 1,
      "outputs": [
        {
          "output_type": "stream",
          "name": "stdout",
          "text": [
            "Mounted at /content/drive\n"
          ]
        }
      ]
    },
    {
      "cell_type": "code",
      "source": [
        "import tensorflow as tf\n",
        "from tensorflow.keras.models import Sequential, load_model\n",
        "from tensorflow.keras.layers import Dense\n",
        "from tensorflow.keras.callbacks import EarlyStopping  # used for convergence criteria\n",
        "from sklearn.metrics import accuracy_score\n",
        "from sklearn.preprocessing import StandardScaler\n",
        "import pandas as pd\n",
        "import numpy as np\n",
        "import matplotlib.pyplot as plt"
      ],
      "metadata": {
        "id": "SZg0LfLJ8Vvo"
      },
      "execution_count": 2,
      "outputs": []
    },
    {
      "cell_type": "code",
      "source": [
        "# Three function are defined below to create tables and graphs. These will make the comparison between models simple. \n",
        "\n",
        "def create_metric_table(models, train_history,changes,version_number):\n",
        "    # Create a dataframe to store the model performance metrics\n",
        "    metrics = pd.DataFrame(columns=[\"Model\", \"Optimizer\", \"Loss Function\", \"Learning Rate\", \"Num Hidden Layers\", \"Num Nodes per Layer\", \"Train Loss\", \"Val Loss\", \"Train Acc\", \"Val Acc\"])\n",
        "\n",
        "    # iterates through each model and retrieve its respective performance metric\n",
        "    for i, model in enumerate(models): # enumerate function helps retrieve the model and its index\n",
        "        optimizer = str(model.optimizer.__class__.__name__)\n",
        "        loss_function = str(model.loss)\n",
        "        α = model.optimizer.lr.numpy()\n",
        "        num_hidden_layers = len(model.layers) - 2 # Subtracting input and output layers\n",
        "        num_nodes_per_layer = [layer.output_shape[1] for layer in model.layers if hasattr(layer, 'output_shape')]\n",
        "        train_loss = train_history[i].history[\"loss\"][-1]\n",
        "        val_loss = train_history[i].history[\"val_loss\"][-1]\n",
        "        train_acc = train_history[i].history[\"accuracy\"][-1]\n",
        "        val_acc = train_history[i].history[\"val_accuracy\"][-1]\n",
        "        \n",
        "        # this adds the performance metrics (gathered above) to the metrics dataframe\n",
        "        metrics.loc[i] = [f\"Model {i+1}\", optimizer, loss_function, α, num_hidden_layers, num_nodes_per_layer, train_loss, val_loss, train_acc, val_acc]\n",
        "\n",
        "    print(f\"\\nModel Performance Metrics for {changes}:\")\n",
        "    \n",
        "    # Saving the dataframe to a csv file in Google Drive (for the report)\n",
        "    folder_path = \"/content/drive/MyDrive/model_comparisons\"\n",
        "    file_name = f\"metrics{version_number}.csv\"\n",
        "    file_path = folder_path + \"/\" + file_name\n",
        "    metrics.to_csv(file_path, index=False)\n",
        "    return metrics\n",
        "\n",
        "def create_graphs(train_history,version_number):\n",
        "\n",
        "    colors = ['blue', 'green', 'red', 'cyan', 'magenta', 'yellow', 'black', 'purple']\n",
        "# STOPPED HERE\n",
        "    # Plotting the model for training and validation loss\n",
        "    plt.figure(figsize=(10, 5))\n",
        "    for i, history in enumerate(train_history):\n",
        "        plt.plot(history.history[\"loss\"], color=colors[i], label=f\"Model {i+1} Train Loss\")\n",
        "        plt.plot(history.history[\"val_loss\"], '--', color=colors[i], label=f\"Model {i+1} Val Loss\")\n",
        "    plt.title(\"Model Loss Comparison\")\n",
        "    plt.ylabel(\"Loss\")\n",
        "    plt.xlabel(\"Epoch\")\n",
        "    plt.legend(ncol=2,fontsize='small')\n",
        "    folder_path = \"/content/drive/MyDrive/model_comparisons\"\n",
        "    file_name = f\"loss{version_number}.png\"\n",
        "    file_path = folder_path + \"/\" + file_name\n",
        "    plt.savefig(file_path, dpi=300)\n",
        "    plt.show()\n",
        "    plt.show()\n",
        "\n",
        "    # plotting the model for training and validation accuracy.\n",
        "    plt.figure(figsize=(10, 5))\n",
        "    for i, history in enumerate(train_history):\n",
        "        plt.plot(history.history[\"accuracy\"], color=colors[i], label=f\"Model {i+1} Train Acc\")\n",
        "        plt.plot(history.history[\"val_accuracy\"], '--', color=colors[i], label=f\"Model {i+1} Val Acc\")\n",
        "    plt.title(\"Model Accuracy Comparison\")\n",
        "    plt.ylabel(\"Accuracy\")\n",
        "    plt.xlabel(\"Epoch\")\n",
        "    plt.legend(ncol=2,fontsize='small')\n",
        "    #saving the graph in Google Drive\n",
        "    file_name = f\"accuracy{version_number}.png\"\n",
        "    file_path = folder_path + \"/\" + file_name\n",
        "    plt.savefig(file_path, dpi=300)\n",
        "    plt.show()\n",
        "\n",
        "def compare_models(models, train_history,changes):\n",
        "    version_number = '-'\n",
        "    version_number += input('Please provide version number and change done')\n",
        "    # create the table\n",
        "    metric_table = create_metric_table(models, train_history,changes,version_number)\n",
        "    print('')\n",
        "    # Create the graphs.\n",
        "    create_graphs(train_history,version_number)\n",
        "    return metric_table"
      ],
      "metadata": {
        "id": "UPoYCz3vkq8q"
      },
      "execution_count": 3,
      "outputs": []
    },
    {
      "cell_type": "code",
      "source": [
        "csv_file = \"/content/drive/My Drive/Dataset/HIGGS_train.csv\"  # path to csv\n",
        "\n",
        "# Defining column names, Loading data\n",
        "column_names = [\"outcome\"] + [\"feature \"+str(i) for i in range(1,29)]\n",
        "df = pd.read_csv(csv_file, header=None, names=column_names)\n",
        "\n",
        "# converting strings to float and removing rows with nan values. (pre-processing)\n",
        "df = df.apply(pd.to_numeric, errors='coerce')\n",
        "df = df.dropna()"
      ],
      "metadata": {
        "colab": {
          "base_uri": "https://localhost:8080/"
        },
        "id": "XqOuFgUaJwuB",
        "outputId": "bc0b4fa7-c923-4e44-a757-3e725102a6f4"
      },
      "execution_count": 4,
      "outputs": [
        {
          "output_type": "stream",
          "name": "stderr",
          "text": [
            "<ipython-input-4-5184d83a31cf>:5: DtypeWarning: Columns (8,21) have mixed types. Specify dtype option on import or set low_memory=False.\n",
            "  df = pd.read_csv(csv_file, header=None, names=column_names)\n"
          ]
        }
      ]
    },
    {
      "cell_type": "code",
      "source": [
        "# Feature scaling\n",
        "X_df = df.iloc[:, 1:]   # removes the output variable for preprocessing\n",
        "scaler = StandardScaler()\n",
        "X_scaled = scaler.fit_transform(X_df)\n",
        "#print(\"After Scaling\")\n",
        "#print(np.mean(X_scaled, axis=0))\n",
        "#print(np.std(X_scaled,axis=0))\n",
        "df = pd.DataFrame(np.concatenate([df.iloc[:, :1].values, X_scaled], axis=1), columns=['outcome'] + list(df.columns[1:])) # merging"
      ],
      "metadata": {
        "id": "jkzX_Kj7KYf4"
      },
      "execution_count": 5,
      "outputs": []
    },
    {
      "cell_type": "code",
      "source": [
        "train_df, val_df, test_df = np.split(df.sample(frac=1, random_state=42), [int(0.6*len(df)), int(0.8*len(df))]) #splitting the data\n"
      ],
      "metadata": {
        "id": "ce3Xz2LvPqt_"
      },
      "execution_count": 6,
      "outputs": []
    },
    {
      "cell_type": "code",
      "source": [
        "# The code below is used to create a tensorflow dataframe with the training data. Prior to using this dataframe, the RAM would constantly overflow. With this dataframe, however,\n",
        "# the RAM is far from overflowing. \n",
        "\n",
        "\n",
        "train_df, val_df, test_df = np.split(df.sample(frac=1, random_state=42), [int(0.6*len(df)), int(0.8*len(df))]) #splitting the data\n",
        "\n",
        "# Creating tensors from the previous partitions, which will be used below to create the tensorflow dataset.\n",
        "train_labels = tf.constant(train_df[\"outcome\"].values)\n",
        "train_features = tf.constant(train_df.drop(\"outcome\", axis=1).values)\n",
        "val_labels = tf.constant(val_df[\"outcome\"].values)\n",
        "val_features = tf.constant(val_df.drop(\"outcome\", axis=1).values)\n",
        "test_labels = tf.constant(test_df[\"outcome\"].values)\n",
        "test_features = tf.constant(test_df.drop(\"outcome\", axis=1).values)\n",
        "\n",
        "# Create TensorFlow datasets from the data (features are 1 column, train labels are the other column)\n",
        "train_dataset = tf.data.Dataset.from_tensor_slices((train_features, train_labels))\n",
        "val_dataset = tf.data.Dataset.from_tensor_slices((val_features, val_labels))\n",
        "test_dataset = tf.data.Dataset.from_tensor_slices((test_features, test_labels))\n",
        "\n",
        "#shuffling and batching the data.\n",
        "batch_size = 32\n",
        "train_buffer_size = tf.data.experimental.cardinality(train_dataset).numpy()   # setting buffer of the shuffle function to the maximum number of elements in the respective dataframe\n",
        "val_buffer_size = tf.data.experimental.cardinality(val_dataset).numpy()\n",
        "test_buffer_size = tf.data.experimental.cardinality(test_dataset).numpy()\n",
        "\n",
        "train_dataset = train_dataset.shuffle(buffer_size=train_buffer_size)\n",
        "train_dataset = train_dataset.batch(batch_size=batch_size)  # in this dataset, every element is a batch, which makes the code memory efficient\n",
        "\n",
        "val_dataset = val_dataset.shuffle(buffer_size=val_buffer_size)\n",
        "val_dataset = val_dataset.batch(batch_size=batch_size)\n",
        "\n",
        "test_dataset = test_dataset.shuffle(buffer_size=test_buffer_size)\n",
        "test_dataset = test_dataset.batch(batch_size=batch_size)\n",
        "\n",
        "# prefetching the data that will be used after the current one. \n",
        "train_dataset = train_dataset.prefetch(buffer_size=tf.data.AUTOTUNE)  #tf.data.AUTOTUNE allows tensorflow to automatically determine the right amount of buffer size for prefetch\n",
        "val_dataset = val_dataset.prefetch(buffer_size=tf.data.AUTOTUNE)\n",
        "test_dataset = test_dataset.prefetch(buffer_size=tf.data.AUTOTUNE)"
      ],
      "metadata": {
        "id": "eLHwcpG_toLC"
      },
      "execution_count": 7,
      "outputs": []
    },
    {
      "cell_type": "code",
      "source": [
        "num_elements = tf.data.experimental.cardinality(train_dataset).numpy()"
      ],
      "metadata": {
        "id": "lKWJ_Jqy4W1B"
      },
      "execution_count": 8,
      "outputs": []
    },
    {
      "cell_type": "code",
      "source": [
        "\n",
        "# Number of batches in the tensor\n",
        "num_datapoints = len(train_dataset)\n",
        "print(num_datapoints)"
      ],
      "metadata": {
        "colab": {
          "base_uri": "https://localhost:8080/"
        },
        "id": "SH58MFVJj2YJ",
        "outputId": "c0e543cb-24e5-47eb-d1fc-a89ca9daae9e"
      },
      "execution_count": 9,
      "outputs": [
        {
          "output_type": "stream",
          "name": "stdout",
          "text": [
            "11250\n"
          ]
        }
      ]
    },
    {
      "cell_type": "code",
      "source": [
        "# first model\n",
        "model_1 = tf.keras.Sequential([\n",
        "    tf.keras.layers.Dense(64, activation='relu'),\n",
        "    tf.keras.layers.Dense(32, activation='relu'),\n",
        "    tf.keras.layers.Dense(32, activation='relu'),\n",
        "    tf.keras.layers.Dense(32, activation='relu'),\n",
        "\n",
        "\n",
        "    tf.keras.layers.Dense(1, activation='sigmoid')\n",
        "])\n",
        "model_1.compile(optimizer='adam', loss='binary_crossentropy', metrics=['accuracy'])\n",
        "\n",
        "#early stopping criteria\n",
        "early_stopping = EarlyStopping(monitor='val_loss', patience=3)\n",
        "\n",
        "output_model1 = model_1.fit(train_dataset, validation_data=val_dataset, epochs=5,callbacks=[early_stopping])"
      ],
      "metadata": {
        "id": "XkGo6Z0x09uS",
        "colab": {
          "base_uri": "https://localhost:8080/"
        },
        "outputId": "bb72b160-079f-4766-b87e-29f88119b2c0"
      },
      "execution_count": 10,
      "outputs": [
        {
          "output_type": "stream",
          "name": "stdout",
          "text": [
            "Epoch 1/5\n",
            "11250/11250 [==============================] - 21s 2ms/step - loss: 0.5752 - accuracy: 0.6944 - val_loss: 0.5488 - val_accuracy: 0.7164\n",
            "Epoch 2/5\n",
            "11250/11250 [==============================] - 21s 2ms/step - loss: 0.5403 - accuracy: 0.7231 - val_loss: 0.5314 - val_accuracy: 0.7296\n",
            "Epoch 3/5\n",
            "11250/11250 [==============================] - 22s 2ms/step - loss: 0.5296 - accuracy: 0.7294 - val_loss: 0.5284 - val_accuracy: 0.7313\n",
            "Epoch 4/5\n",
            "11250/11250 [==============================] - 21s 2ms/step - loss: 0.5228 - accuracy: 0.7343 - val_loss: 0.5221 - val_accuracy: 0.7342\n",
            "Epoch 5/5\n",
            "11250/11250 [==============================] - 20s 2ms/step - loss: 0.5178 - accuracy: 0.7371 - val_loss: 0.5180 - val_accuracy: 0.7367\n"
          ]
        }
      ]
    },
    {
      "cell_type": "code",
      "source": [
        "# second model\n",
        "model_2 = tf.keras.Sequential([\n",
        "    tf.keras.layers.Dense(12, activation='relu'),\n",
        "    tf.keras.layers.Dense(12, activation='relu'),\n",
        "    tf.keras.layers.Dense(12, activation='relu'),\n",
        "    tf.keras.layers.Dense(12, activation='relu'),\n",
        "    tf.keras.layers.Dense(1, activation='sigmoid')\n",
        "])\n",
        "model_2.compile(optimizer='adam', loss='binary_crossentropy', metrics=['accuracy'])\n",
        "\n",
        "#early stopping criteria\n",
        "early_stopping = EarlyStopping(monitor='val_loss', patience=3)\n",
        "\n",
        "output_model2 = model_2.fit(train_dataset, validation_data=val_dataset, epochs=5,callbacks=[early_stopping])"
      ],
      "metadata": {
        "colab": {
          "base_uri": "https://localhost:8080/"
        },
        "id": "gDP82HUeIx1Z",
        "outputId": "fa6b5d37-7ea2-4cfd-818a-df4570bf7690"
      },
      "execution_count": 11,
      "outputs": [
        {
          "output_type": "stream",
          "name": "stdout",
          "text": [
            "Epoch 1/5\n",
            "11250/11250 [==============================] - 23s 2ms/step - loss: 0.6026 - accuracy: 0.6693 - val_loss: 0.5709 - val_accuracy: 0.7004\n",
            "Epoch 2/5\n",
            "11250/11250 [==============================] - 21s 2ms/step - loss: 0.5633 - accuracy: 0.7056 - val_loss: 0.5583 - val_accuracy: 0.7086\n",
            "Epoch 3/5\n",
            "11250/11250 [==============================] - 19s 2ms/step - loss: 0.5539 - accuracy: 0.7128 - val_loss: 0.5525 - val_accuracy: 0.7135\n",
            "Epoch 4/5\n",
            "11250/11250 [==============================] - 20s 2ms/step - loss: 0.5481 - accuracy: 0.7160 - val_loss: 0.5447 - val_accuracy: 0.7178\n",
            "Epoch 5/5\n",
            "11250/11250 [==============================] - 21s 2ms/step - loss: 0.5443 - accuracy: 0.7182 - val_loss: 0.5449 - val_accuracy: 0.7185\n"
          ]
        }
      ]
    },
    {
      "cell_type": "code",
      "source": [
        "# third model\n",
        "model_3 = tf.keras.Sequential([\n",
        "    tf.keras.layers.Dense(28, activation='relu'),\n",
        "    tf.keras.layers.Dense(18, activation='relu'),\n",
        "    tf.keras.layers.Dense(12, activation='relu'),\n",
        "    tf.keras.layers.Dense(6, activation='relu'),\n",
        "    tf.keras.layers.Dense(1, activation='sigmoid')\n",
        "])\n",
        "model_3.compile(optimizer='adam', loss='binary_crossentropy', metrics=['accuracy'])\n",
        "\n",
        "#early stopping criteria\n",
        "early_stopping = EarlyStopping(monitor='val_loss', patience=3)\n",
        "\n",
        "output_model3 = model_3.fit(train_dataset, validation_data=val_dataset, epochs=5,callbacks=[early_stopping])"
      ],
      "metadata": {
        "colab": {
          "base_uri": "https://localhost:8080/"
        },
        "id": "s28Ku6A1XH89",
        "outputId": "c96507a7-9c95-4deb-e678-aa024be411e2"
      },
      "execution_count": 12,
      "outputs": [
        {
          "output_type": "stream",
          "name": "stdout",
          "text": [
            "Epoch 1/5\n",
            "11250/11250 [==============================] - 21s 2ms/step - loss: 0.5899 - accuracy: 0.6811 - val_loss: 0.5604 - val_accuracy: 0.7089\n",
            "Epoch 2/5\n",
            "11250/11250 [==============================] - 21s 2ms/step - loss: 0.5498 - accuracy: 0.7159 - val_loss: 0.5437 - val_accuracy: 0.7212\n",
            "Epoch 3/5\n",
            "11250/11250 [==============================] - 22s 2ms/step - loss: 0.5395 - accuracy: 0.7234 - val_loss: 0.5372 - val_accuracy: 0.7243\n",
            "Epoch 4/5\n",
            "11250/11250 [==============================] - 21s 2ms/step - loss: 0.5338 - accuracy: 0.7276 - val_loss: 0.5322 - val_accuracy: 0.7292\n",
            "Epoch 5/5\n",
            "11250/11250 [==============================] - 20s 2ms/step - loss: 0.5300 - accuracy: 0.7300 - val_loss: 0.5319 - val_accuracy: 0.7289\n"
          ]
        }
      ]
    },
    {
      "cell_type": "code",
      "source": [
        "# fourth model\n",
        "model_4 = tf.keras.Sequential([\n",
        "    tf.keras.layers.Dense(128, activation='relu'),\n",
        "    tf.keras.layers.Dense(64, activation='relu'),\n",
        "    tf.keras.layers.Dense(32, activation='relu'),\n",
        "    tf.keras.layers.Dense(6, activation='relu'),\n",
        "    tf.keras.layers.Dense(1, activation='sigmoid')\n",
        "])\n",
        "model_4.compile(optimizer='adam', loss='binary_crossentropy', metrics=['accuracy'])\n",
        "\n",
        "#early stopping criteria\n",
        "early_stopping = EarlyStopping(monitor='val_loss', patience=3)\n",
        "\n",
        "output_model4 = model_4.fit(train_dataset, validation_data=val_dataset, epochs=5,callbacks=[early_stopping])"
      ],
      "metadata": {
        "colab": {
          "base_uri": "https://localhost:8080/"
        },
        "id": "YJIVl0cRxv5N",
        "outputId": "ec463374-d9f1-4329-ca0a-71bd2b30ed6d"
      },
      "execution_count": 13,
      "outputs": [
        {
          "output_type": "stream",
          "name": "stdout",
          "text": [
            "Epoch 1/5\n",
            "11250/11250 [==============================] - 24s 2ms/step - loss: 0.5703 - accuracy: 0.6985 - val_loss: 0.5422 - val_accuracy: 0.7215\n",
            "Epoch 2/5\n",
            "11250/11250 [==============================] - 23s 2ms/step - loss: 0.5364 - accuracy: 0.7254 - val_loss: 0.5357 - val_accuracy: 0.7255\n",
            "Epoch 3/5\n",
            "11250/11250 [==============================] - 22s 2ms/step - loss: 0.5251 - accuracy: 0.7334 - val_loss: 0.5240 - val_accuracy: 0.7350\n",
            "Epoch 4/5\n",
            "11250/11250 [==============================] - 22s 2ms/step - loss: 0.5172 - accuracy: 0.7379 - val_loss: 0.5236 - val_accuracy: 0.7372\n",
            "Epoch 5/5\n",
            "11250/11250 [==============================] - 24s 2ms/step - loss: 0.5122 - accuracy: 0.7415 - val_loss: 0.5218 - val_accuracy: 0.7329\n"
          ]
        }
      ]
    },
    {
      "cell_type": "code",
      "source": [
        "model_5 = tf.keras.Sequential([\n",
        "    tf.keras.layers.Dense(256, activation='relu'),\n",
        "    tf.keras.layers.Dense(128, activation='relu'),\n",
        "    tf.keras.layers.Dense(64, activation='relu'),\n",
        "    tf.keras.layers.Dense(32, activation='relu'),\n",
        "    tf.keras.layers.Dense(1, activation='sigmoid')\n",
        "])\n",
        "model_5.compile(optimizer='adam', loss='binary_crossentropy', metrics=['accuracy'])\n",
        "\n",
        "#early stopping criteria\n",
        "early_stopping = EarlyStopping(monitor='val_loss', patience=3)\n",
        "\n",
        "output_model5 = model_5.fit(train_dataset, validation_data=val_dataset, epochs=5, callbacks=[early_stopping])\n"
      ],
      "metadata": {
        "colab": {
          "base_uri": "https://localhost:8080/"
        },
        "id": "mzgqvqfgzURv",
        "outputId": "d0daa797-dd6e-4930-8757-c874faae872a"
      },
      "execution_count": 14,
      "outputs": [
        {
          "output_type": "stream",
          "name": "stdout",
          "text": [
            "Epoch 1/5\n",
            "11250/11250 [==============================] - 29s 2ms/step - loss: 0.5632 - accuracy: 0.7049 - val_loss: 0.5420 - val_accuracy: 0.7198\n",
            "Epoch 2/5\n",
            "11250/11250 [==============================] - 25s 2ms/step - loss: 0.5300 - accuracy: 0.7302 - val_loss: 0.5243 - val_accuracy: 0.7315\n",
            "Epoch 3/5\n",
            "11250/11250 [==============================] - 27s 2ms/step - loss: 0.5185 - accuracy: 0.7376 - val_loss: 0.5199 - val_accuracy: 0.7384\n",
            "Epoch 4/5\n",
            "11250/11250 [==============================] - 27s 2ms/step - loss: 0.5112 - accuracy: 0.7426 - val_loss: 0.5178 - val_accuracy: 0.7392\n",
            "Epoch 5/5\n",
            "11250/11250 [==============================] - 26s 2ms/step - loss: 0.5052 - accuracy: 0.7466 - val_loss: 0.5118 - val_accuracy: 0.7423\n"
          ]
        }
      ]
    },
    {
      "cell_type": "code",
      "source": [
        "list_models = [model_1,model_2,model_3,model_4,model_5]\n",
        "list_output_models = [output_model1,output_model2,output_model3,output_model4,output_model5]"
      ],
      "metadata": {
        "id": "YwDBbTd9YBg5"
      },
      "execution_count": 15,
      "outputs": []
    },
    {
      "cell_type": "code",
      "source": [
        "compare_models(list_models, list_output_models, \"changes in the number of nodes in each hidden layer\")"
      ],
      "metadata": {
        "colab": {
          "base_uri": "https://localhost:8080/",
          "height": 941
        },
        "id": "HbO-n0mgnXZQ",
        "outputId": "3b55769d-1ace-4ecb-fdab-26ea1d1dfd75"
      },
      "execution_count": 17,
      "outputs": [
        {
          "output_type": "stream",
          "name": "stdout",
          "text": [
            "Please provide version number and change doneadded-nodes-25-03\n",
            "\n",
            "Model Performance Metrics for changes in the number of nodes in each hidden layer:\n",
            "\n"
          ]
        },
        {
          "output_type": "display_data",
          "data": {
            "text/plain": [
              "<Figure size 720x360 with 1 Axes>"
            ],
            "image/png": "[encoded data removed]"
          },
          "metadata": {
            "needs_background": "light"
          }
        },
        {
          "output_type": "display_data",
          "data": {
            "text/plain": [
              "<Figure size 720x360 with 1 Axes>"
            ],
            "image/png": "[encoded data removed]"
          },
          "metadata": {
            "needs_background": "light"
          }
        },
        {
          "output_type": "execute_result",
          "data": {
            "text/plain": [
              "     Model Optimizer        Loss Function  Learning Rate  Num Hidden Layers  \\\n",
              "0  Model 1      Adam  binary_crossentropy          0.001                  3   \n",
              "1  Model 2      Adam  binary_crossentropy          0.001                  3   \n",
              "2  Model 3      Adam  binary_crossentropy          0.001                  3   \n",
              "3  Model 4      Adam  binary_crossentropy          0.001                  3   \n",
              "4  Model 5      Adam  binary_crossentropy          0.001                  3   \n",
              "\n",
              "     Num Nodes per Layer  Train Loss  Val Loss  Train Acc   Val Acc  \n",
              "0    [64, 32, 32, 32, 1]    0.517838  0.518022   0.737087  0.736731  \n",
              "1    [12, 12, 12, 12, 1]    0.544254  0.544899   0.718231  0.718498  \n",
              "2     [28, 18, 12, 6, 1]    0.529966  0.531897   0.730031  0.728889  \n",
              "3    [128, 64, 32, 6, 1]    0.512183  0.521826   0.741534  0.732889  \n",
              "4  [256, 128, 64, 32, 1]    0.505214  0.511797   0.746578  0.742348  "
            ],
            "text/html": [
              "\n",
              "  <div id=\"df-e25106d5-4394-40ee-8814-81e27339d604\">\n",
              "    <div class=\"colab-df-container\">\n",
              "      <div>\n",
              "<style scoped>\n",
              "    .dataframe tbody tr th:only-of-type {\n",
              "        vertical-align: middle;\n",
              "    }\n",
              "\n",
              "    .dataframe tbody tr th {\n",
              "        vertical-align: top;\n",
              "    }\n",
              "\n",
              "    .dataframe thead th {\n",
              "        text-align: right;\n",
              "    }\n",
              "</style>\n",
              "<table border=\"1\" class=\"dataframe\">\n",
              "  <thead>\n",
              "    <tr style=\"text-align: right;\">\n",
              "      <th></th>\n",
              "      <th>Model</th>\n",
              "      <th>Optimizer</th>\n",
              "      <th>Loss Function</th>\n",
              "      <th>Learning Rate</th>\n",
              "      <th>Num Hidden Layers</th>\n",
              "      <th>Num Nodes per Layer</th>\n",
              "      <th>Train Loss</th>\n",
              "      <th>Val Loss</th>\n",
              "      <th>Train Acc</th>\n",
              "      <th>Val Acc</th>\n",
              "    </tr>\n",
              "  </thead>\n",
              "  <tbody>\n",
              "    <tr>\n",
              "      <th>0</th>\n",
              "      <td>Model 1</td>\n",
              "      <td>Adam</td>\n",
              "      <td>binary_crossentropy</td>\n",
              "      <td>0.001</td>\n",
              "      <td>3</td>\n",
              "      <td>[64, 32, 32, 32, 1]</td>\n",
              "      <td>0.517838</td>\n",
              "      <td>0.518022</td>\n",
              "      <td>0.737087</td>\n",
              "      <td>0.736731</td>\n",
              "    </tr>\n",
              "    <tr>\n",
              "      <th>1</th>\n",
              "      <td>Model 2</td>\n",
              "      <td>Adam</td>\n",
              "      <td>binary_crossentropy</td>\n",
              "      <td>0.001</td>\n",
              "      <td>3</td>\n",
              "      <td>[12, 12, 12, 12, 1]</td>\n",
              "      <td>0.544254</td>\n",
              "      <td>0.544899</td>\n",
              "      <td>0.718231</td>\n",
              "      <td>0.718498</td>\n",
              "    </tr>\n",
              "    <tr>\n",
              "      <th>2</th>\n",
              "      <td>Model 3</td>\n",
              "      <td>Adam</td>\n",
              "      <td>binary_crossentropy</td>\n",
              "      <td>0.001</td>\n",
              "      <td>3</td>\n",
              "      <td>[28, 18, 12, 6, 1]</td>\n",
              "      <td>0.529966</td>\n",
              "      <td>0.531897</td>\n",
              "      <td>0.730031</td>\n",
              "      <td>0.728889</td>\n",
              "    </tr>\n",
              "    <tr>\n",
              "      <th>3</th>\n",
              "      <td>Model 4</td>\n",
              "      <td>Adam</td>\n",
              "      <td>binary_crossentropy</td>\n",
              "      <td>0.001</td>\n",
              "      <td>3</td>\n",
              "      <td>[128, 64, 32, 6, 1]</td>\n",
              "      <td>0.512183</td>\n",
              "      <td>0.521826</td>\n",
              "      <td>0.741534</td>\n",
              "      <td>0.732889</td>\n",
              "    </tr>\n",
              "    <tr>\n",
              "      <th>4</th>\n",
              "      <td>Model 5</td>\n",
              "      <td>Adam</td>\n",
              "      <td>binary_crossentropy</td>\n",
              "      <td>0.001</td>\n",
              "      <td>3</td>\n",
              "      <td>[256, 128, 64, 32, 1]</td>\n",
              "      <td>0.505214</td>\n",
              "      <td>0.511797</td>\n",
              "      <td>0.746578</td>\n",
              "      <td>0.742348</td>\n",
              "    </tr>\n",
              "  </tbody>\n",
              "</table>\n",
              "</div>\n",
              "      <button class=\"colab-df-convert\" onclick=\"convertToInteractive('df-e25106d5-4394-40ee-8814-81e27339d604')\"\n",
              "              title=\"Convert this dataframe to an interactive table.\"\n",
              "              style=\"display:none;\">\n",
              "        \n",
              "  <svg xmlns=\"http://www.w3.org/2000/svg\" height=\"24px\"viewBox=\"0 0 24 24\"\n",
              "       width=\"24px\">\n",
              "    <path d=\"M0 0h24v24H0V0z\" fill=\"none\"/>\n",
              "    <path d=\"M18.56 5.44l.94 2.06.94-2.06 2.06-.94-2.06-.94-.94-2.06-.94 2.06-2.06.94zm-11 1L8.5 8.5l.94-2.06 2.06-.94-2.06-.94L8.5 2.5l-.94 2.06-2.06.94zm10 10l.94 2.06.94-2.06 2.06-.94-2.06-.94-.94-2.06-.94 2.06-2.06.94z\"/><path d=\"M17.41 7.96l-1.37-1.37c-.4-.4-.92-.59-1.43-.59-.52 0-1.04.2-1.43.59L10.3 9.45l-7.72 7.72c-.78.78-.78 2.05 0 2.83L4 21.41c.39.39.9.59 1.41.59.51 0 1.02-.2 1.41-.59l7.78-7.78 2.81-2.81c.8-.78.8-2.07 0-2.86zM5.41 20L4 18.59l7.72-7.72 1.47 1.35L5.41 20z\"/>\n",
              "  </svg>\n",
              "      </button>\n",
              "      \n",
              "  <style>\n",
              "    .colab-df-container {\n",
              "      display:flex;\n",
              "      flex-wrap:wrap;\n",
              "      gap: 12px;\n",
              "    }\n",
              "\n",
              "    .colab-df-convert {\n",
              "      background-color: #E8F0FE;\n",
              "      border: none;\n",
              "      border-radius: 50%;\n",
              "      cursor: pointer;\n",
              "      display: none;\n",
              "      fill: #1967D2;\n",
              "      height: 32px;\n",
              "      padding: 0 0 0 0;\n",
              "      width: 32px;\n",
              "    }\n",
              "\n",
              "    .colab-df-convert:hover {\n",
              "      background-color: #E2EBFA;\n",
              "      box-shadow: 0px 1px 2px rgba(60, 64, 67, 0.3), 0px 1px 3px 1px rgba(60, 64, 67, 0.15);\n",
              "      fill: #174EA6;\n",
              "    }\n",
              "\n",
              "    [theme=dark] .colab-df-convert {\n",
              "      background-color: #3B4455;\n",
              "      fill: #D2E3FC;\n",
              "    }\n",
              "\n",
              "    [theme=dark] .colab-df-convert:hover {\n",
              "      background-color: #434B5C;\n",
              "      box-shadow: 0px 1px 3px 1px rgba(0, 0, 0, 0.15);\n",
              "      filter: drop-shadow(0px 1px 2px rgba(0, 0, 0, 0.3));\n",
              "      fill: #FFFFFF;\n",
              "    }\n",
              "  </style>\n",
              "\n",
              "      <script>\n",
              "        const buttonEl =\n",
              "          document.querySelector('#df-e25106d5-4394-40ee-8814-81e27339d604 button.colab-df-convert');\n",
              "        buttonEl.style.display =\n",
              "          google.colab.kernel.accessAllowed ? 'block' : 'none';\n",
              "\n",
              "        async function convertToInteractive(key) {\n",
              "          const element = document.querySelector('#df-e25106d5-4394-40ee-8814-81e27339d604');\n",
              "          const dataTable =\n",
              "            await google.colab.kernel.invokeFunction('convertToInteractive',\n",
              "                                                     [key], {});\n",
              "          if (!dataTable) return;\n",
              "\n",
              "          const docLinkHtml = 'Like what you see? Visit the ' +\n",
              "            '<a target=\"_blank\" href=https://colab.research.google.com/notebooks/data_table.ipynb>data table notebook</a>'\n",
              "            + ' to learn more about interactive tables.';\n",
              "          element.innerHTML = '';\n",
              "          dataTable['output_type'] = 'display_data';\n",
              "          await google.colab.output.renderOutput(dataTable, element);\n",
              "          const docLink = document.createElement('div');\n",
              "          docLink.innerHTML = docLinkHtml;\n",
              "          element.appendChild(docLink);\n",
              "        }\n",
              "      </script>\n",
              "    </div>\n",
              "  </div>\n",
              "  "
            ]
          },
          "metadata": {},
          "execution_count": 17
        }
      ]
    },
    {
      "cell_type": "code",
      "source": [
        "# testing for accuracy \n",
        "loss, accuracy = model_1.evaluate(test_dataset)\n",
        "\n",
        "print(\"Test loss:\", loss)\n",
        "print(\"Test accuracy:\", accuracy)\n"
      ],
      "metadata": {
        "id": "6vnam_fNDdej",
        "colab": {
          "base_uri": "https://localhost:8080/"
        },
        "outputId": "31fc9342-ef63-4360-9f52-cfca9161a878"
      },
      "execution_count": null,
      "outputs": [
        {
          "output_type": "stream",
          "name": "stdout",
          "text": [
            "3750/3750 [==============================] - 5s 1ms/step - loss: 0.5231 - accuracy: 0.7356\n",
            "Test loss: 0.5230982303619385\n",
            "Test accuracy: 0.7356416583061218\n"
          ]
        }
      ]
    }
  ]
}