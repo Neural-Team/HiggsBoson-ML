{
  "nbformat": 4,
  "nbformat_minor": 0,
  "metadata": {
    "colab": {
      "provenance": []
    },
    "kernelspec": {
      "name": "python3",
      "display_name": "Python 3"
    },
    "language_info": {
      "name": "python"
    },
    "gpuClass": "standard"
  },
  "cells": [
    {
      "cell_type": "code",
      "source": [
        "from google.colab import drive\n",
        "drive.mount('/content/drive')"
      ],
      "metadata": {
        "id": "IH_c-aBfnYoY",
        "colab": {
          "base_uri": "https://localhost:8080/"
        },
        "outputId": "74b10130-1b55-4f35-d3d9-50885aeb5bec"
      },
      "execution_count": 5,
      "outputs": [
        {
          "output_type": "stream",
          "name": "stdout",
          "text": [
            "Mounted at /content/drive\n"
          ]
        }
      ]
    },
    {
      "cell_type": "code",
      "source": [
        "import tensorflow as tf\n",
        "from tensorflow.keras.models import Sequential, load_model\n",
        "from tensorflow.keras.layers import Dense\n",
        "from tensorflow.keras.callbacks import EarlyStopping  # used for convergence criteria\n",
        "from sklearn.metrics import accuracy_score\n",
        "from sklearn.preprocessing import StandardScaler\n",
        "import pandas as pd\n",
        "import numpy as np\n",
        "import matplotlib.pyplot as plt"
      ],
      "metadata": {
        "id": "SZg0LfLJ8Vvo"
      },
      "execution_count": 6,
      "outputs": []
    },
    {
      "cell_type": "code",
      "source": [
        "# Three function are defined below to create tables and graphs. These will make the comparison between models simple. \n",
        "\n",
        "def create_metric_table(models, train_history,changes,version_number):\n",
        "    # Create a dataframe to store the model performance metrics\n",
        "    metrics = pd.DataFrame(columns=[\"Model\", \"Optimizer\", \"Loss Function\", \"Learning Rate\", \"Num Hidden Layers\", \"Num Nodes per Layer\", \"Train Loss\", \"Val Loss\", \"Train Acc\", \"Val Acc\"])\n",
        "\n",
        "    # iterates through each model and retrieve its respective performance metric\n",
        "    for i, model in enumerate(models): # enumerate function helps retrieve the model and its index\n",
        "        optimizer = str(model.optimizer.__class__.__name__)\n",
        "        loss_function = str(model.loss)\n",
        "        α = model.optimizer.lr.numpy()\n",
        "        num_hidden_layers = len(model.layers) - 2 # Subtracting input and output layers\n",
        "        num_nodes_per_layer = [layer.output_shape[1] for layer in model.layers if hasattr(layer, 'output_shape')]\n",
        "        train_loss = train_history[i].history[\"loss\"][-1]\n",
        "        val_loss = train_history[i].history[\"val_loss\"][-1]\n",
        "        train_acc = train_history[i].history[\"accuracy\"][-1]\n",
        "        val_acc = train_history[i].history[\"val_accuracy\"][-1]\n",
        "        \n",
        "        # this adds the performance metrics (gathered above) to the metrics dataframe\n",
        "        metrics.loc[i] = [f\"Model {i+1}\", optimizer, loss_function, α, num_hidden_layers, num_nodes_per_layer, train_loss, val_loss, train_acc, val_acc]\n",
        "\n",
        "    print(f\"\\nModel Performance Metrics for {changes}:\")\n",
        "    \n",
        "    # Saving the dataframe to a csv file in Google Drive (for the report)\n",
        "    folder_path = \"/content/drive/MyDrive/model_comparisons\"\n",
        "    file_name = f\"metrics{version_number}.csv\"\n",
        "    file_path = folder_path + \"/\" + file_name\n",
        "    metrics.to_csv(file_path, index=False)\n",
        "    return metrics\n",
        "\n",
        "def create_graphs(train_history,version_number):\n",
        "\n",
        "    colors = ['blue', 'green', 'red', 'cyan', 'magenta', 'yellow', 'black', 'purple']\n",
        "# STOPPED HERE\n",
        "    # Plotting the model for training and validation loss\n",
        "    plt.figure(figsize=(10, 5))\n",
        "    for i, history in enumerate(train_history):\n",
        "        plt.plot(history.history[\"loss\"], color=colors[i], label=f\"Model {i+1} Train Loss\")\n",
        "        plt.plot(history.history[\"val_loss\"], '--', color=colors[i], label=f\"Model {i+1} Val Loss\")\n",
        "    plt.title(\"Model Loss Comparison\")\n",
        "    plt.ylabel(\"Loss\")\n",
        "    plt.xlabel(\"Epoch\")\n",
        "    plt.legend(ncol=2,fontsize='small')\n",
        "    folder_path = \"/content/drive/MyDrive/model_comparisons\"\n",
        "    file_name = f\"loss{version_number}.png\"\n",
        "    file_path = folder_path + \"/\" + file_name\n",
        "    plt.savefig(file_path, dpi=300)\n",
        "    plt.show()\n",
        "    plt.show()\n",
        "\n",
        "    # plotting the model for training and validation accuracy.\n",
        "    plt.figure(figsize=(10, 5))\n",
        "    for i, history in enumerate(train_history):\n",
        "        plt.plot(history.history[\"accuracy\"], color=colors[i], label=f\"Model {i+1} Train Acc\")\n",
        "        plt.plot(history.history[\"val_accuracy\"], '--', color=colors[i], label=f\"Model {i+1} Val Acc\")\n",
        "    plt.title(\"Model Accuracy Comparison\")\n",
        "    plt.ylabel(\"Accuracy\")\n",
        "    plt.xlabel(\"Epoch\")\n",
        "    plt.legend(ncol=2,fontsize='small')\n",
        "    #saving the graph in Google Drive\n",
        "    file_name = f\"accuracy{version_number}.png\"\n",
        "    file_path = folder_path + \"/\" + file_name\n",
        "    plt.savefig(file_path, dpi=300)\n",
        "    plt.show()\n",
        "\n",
        "def compare_models(models, train_history,changes):\n",
        "    version_number = '-'\n",
        "    version_number += input('Please provide version number and change done')\n",
        "    # create the table\n",
        "    metric_table = create_metric_table(models, train_history,changes,version_number)\n",
        "    print('')\n",
        "    # Create the graphs.\n",
        "    create_graphs(train_history,version_number)\n",
        "    return metric_table"
      ],
      "metadata": {
        "id": "UPoYCz3vkq8q"
      },
      "execution_count": 7,
      "outputs": []
    },
    {
      "cell_type": "code",
      "source": [
        "csv_file = \"/content/drive/My Drive/Dataset/HIGGS_train.csv\"  # path to csv\n",
        "\n",
        "# Defining column names, Loading data\n",
        "column_names = [\"outcome\"] + [\"feature \"+str(i) for i in range(1,29)]\n",
        "df = pd.read_csv(csv_file, header=None, names=column_names)\n",
        "\n",
        "# converting strings to float and removing rows with nan values. (pre-processing)\n",
        "df = df.apply(pd.to_numeric, errors='coerce')\n",
        "df = df.dropna()"
      ],
      "metadata": {
        "colab": {
          "base_uri": "https://localhost:8080/"
        },
        "id": "XqOuFgUaJwuB",
        "outputId": "1b22fe5f-66a0-4df3-8730-49d6e9c55e16"
      },
      "execution_count": 8,
      "outputs": [
        {
          "output_type": "stream",
          "name": "stderr",
          "text": [
            "<ipython-input-8-5184d83a31cf>:5: DtypeWarning: Columns (8,21) have mixed types. Specify dtype option on import or set low_memory=False.\n",
            "  df = pd.read_csv(csv_file, header=None, names=column_names)\n"
          ]
        }
      ]
    },
    {
      "cell_type": "code",
      "source": [
        "# Feature scaling\n",
        "X_df = df.iloc[:, 1:]   # removes the output variable for preprocessing\n",
        "scaler = StandardScaler()\n",
        "X_scaled = scaler.fit_transform(X_df)\n",
        "#print(\"After Scaling\")\n",
        "#print(np.mean(X_scaled, axis=0))\n",
        "#print(np.std(X_scaled,axis=0))\n",
        "df = pd.DataFrame(np.concatenate([df.iloc[:, :1].values, X_scaled], axis=1), columns=['outcome'] + list(df.columns[1:])) # merging"
      ],
      "metadata": {
        "id": "jkzX_Kj7KYf4"
      },
      "execution_count": 9,
      "outputs": []
    },
    {
      "cell_type": "code",
      "source": [
        "train_df, val_df, test_df = np.split(df.sample(frac=1, random_state=42), [int(0.6*len(df)), int(0.8*len(df))]) #splitting the data\n"
      ],
      "metadata": {
        "id": "ce3Xz2LvPqt_"
      },
      "execution_count": 10,
      "outputs": []
    },
    {
      "cell_type": "code",
      "source": [
        "# The code below is used to create a tensorflow dataframe with the training data. Prior to using this dataframe, the RAM would constantly overflow. With this dataframe, however,\n",
        "# the RAM is far from overflowing. \n",
        "\n",
        "\n",
        "train_df, val_df, test_df = np.split(df.sample(frac=1, random_state=42), [int(0.6*len(df)), int(0.8*len(df))]) #splitting the data\n",
        "\n",
        "# Creating tensors from the previous partitions, which will be used below to create the tensorflow dataset.\n",
        "train_labels = tf.constant(train_df[\"outcome\"].values)\n",
        "train_features = tf.constant(train_df.drop(\"outcome\", axis=1).values)\n",
        "val_labels = tf.constant(val_df[\"outcome\"].values)\n",
        "val_features = tf.constant(val_df.drop(\"outcome\", axis=1).values)\n",
        "test_labels = tf.constant(test_df[\"outcome\"].values)\n",
        "test_features = tf.constant(test_df.drop(\"outcome\", axis=1).values)\n",
        "\n",
        "# Create TensorFlow datasets from the data (features are 1 column, train labels are the other column)\n",
        "train_dataset = tf.data.Dataset.from_tensor_slices((train_features, train_labels))\n",
        "val_dataset = tf.data.Dataset.from_tensor_slices((val_features, val_labels))\n",
        "test_dataset = tf.data.Dataset.from_tensor_slices((test_features, test_labels))\n",
        "\n",
        "#shuffling and batching the data.\n",
        "batch_size = 32\n",
        "train_buffer_size = tf.data.experimental.cardinality(train_dataset).numpy()   # setting buffer of the shuffle function to the maximum number of elements in the respective dataframe\n",
        "val_buffer_size = tf.data.experimental.cardinality(val_dataset).numpy()\n",
        "test_buffer_size = tf.data.experimental.cardinality(test_dataset).numpy()\n",
        "\n",
        "train_dataset = train_dataset.shuffle(buffer_size=train_buffer_size)\n",
        "train_dataset = train_dataset.batch(batch_size=batch_size)  # in this dataset, every element is a batch, which makes the code memory efficient\n",
        "\n",
        "val_dataset = val_dataset.shuffle(buffer_size=val_buffer_size)\n",
        "val_dataset = val_dataset.batch(batch_size=batch_size)\n",
        "\n",
        "test_dataset = test_dataset.shuffle(buffer_size=test_buffer_size)\n",
        "test_dataset = test_dataset.batch(batch_size=batch_size)\n",
        "\n",
        "# prefetching the data that will be used after the current one. \n",
        "train_dataset = train_dataset.prefetch(buffer_size=tf.data.AUTOTUNE)  #tf.data.AUTOTUNE allows tensorflow to automatically determine the right amount of buffer size for prefetch\n",
        "val_dataset = val_dataset.prefetch(buffer_size=tf.data.AUTOTUNE)\n",
        "test_dataset = test_dataset.prefetch(buffer_size=tf.data.AUTOTUNE)"
      ],
      "metadata": {
        "id": "eLHwcpG_toLC"
      },
      "execution_count": 11,
      "outputs": []
    },
    {
      "cell_type": "code",
      "source": [
        "num_elements = tf.data.experimental.cardinality(train_dataset).numpy()"
      ],
      "metadata": {
        "id": "lKWJ_Jqy4W1B"
      },
      "execution_count": 12,
      "outputs": []
    },
    {
      "cell_type": "code",
      "source": [
        "\n",
        "# Number of batches in the tensor\n",
        "num_datapoints = len(train_dataset)\n",
        "print(num_datapoints)"
      ],
      "metadata": {
        "colab": {
          "base_uri": "https://localhost:8080/"
        },
        "id": "SH58MFVJj2YJ",
        "outputId": "ef2b7735-29da-4143-eea7-b74b6dc39d07"
      },
      "execution_count": 13,
      "outputs": [
        {
          "output_type": "stream",
          "name": "stdout",
          "text": [
            "11250\n"
          ]
        }
      ]
    },
    {
      "cell_type": "code",
      "source": [
        "from tensorflow.keras.optimizers import Adam"
      ],
      "metadata": {
        "id": "KrrZZiNf8VRW"
      },
      "execution_count": 17,
      "outputs": []
    },
    {
      "cell_type": "code",
      "source": [
        "# first model\n",
        "model_1 = tf.keras.Sequential([\n",
        "    tf.keras.layers.Dense(256, activation='relu'),\n",
        "    tf.keras.layers.Dense(128, activation='relu'),\n",
        "    tf.keras.layers.Dense(64, activation='relu'),\n",
        "    tf.keras.layers.Dense(32, activation='relu'),\n",
        "    tf.keras.layers.Dense(1, activation='sigmoid')\n",
        "])\n",
        "optimizer_diff_learn_rate = Adam(learning_rate=0.0005)\n",
        "\n",
        "model_1.compile(optimizer=optimizer_diff_learn_rate, loss='binary_crossentropy', metrics=['accuracy'])\n",
        "\n",
        "#early stopping criteria\n",
        "early_stopping = EarlyStopping(monitor='val_loss', patience=3)\n",
        "\n",
        "output_model1 = model_1.fit(train_dataset, validation_data=val_dataset, epochs=5,callbacks=[early_stopping])"
      ],
      "metadata": {
        "id": "XkGo6Z0x09uS",
        "colab": {
          "base_uri": "https://localhost:8080/"
        },
        "outputId": "175fc325-153f-406b-e9e6-3e3f2b7550ef"
      },
      "execution_count": 18,
      "outputs": [
        {
          "output_type": "stream",
          "name": "stdout",
          "text": [
            "Epoch 1/5\n",
            "11250/11250 [==============================] - 35s 3ms/step - loss: 0.5670 - accuracy: 0.7020 - val_loss: 0.5435 - val_accuracy: 0.7214\n",
            "Epoch 2/5\n",
            "11250/11250 [==============================] - 31s 3ms/step - loss: 0.5312 - accuracy: 0.7297 - val_loss: 0.5253 - val_accuracy: 0.7337\n",
            "Epoch 3/5\n",
            "11250/11250 [==============================] - 31s 3ms/step - loss: 0.5189 - accuracy: 0.7377 - val_loss: 0.5216 - val_accuracy: 0.7359\n",
            "Epoch 4/5\n",
            "11250/11250 [==============================] - 32s 3ms/step - loss: 0.5104 - accuracy: 0.7430 - val_loss: 0.5147 - val_accuracy: 0.7412\n",
            "Epoch 5/5\n",
            "11250/11250 [==============================] - 32s 3ms/step - loss: 0.5041 - accuracy: 0.7471 - val_loss: 0.5136 - val_accuracy: 0.7417\n"
          ]
        }
      ]
    },
    {
      "cell_type": "code",
      "source": [
        "# second model\n",
        "model_2 = tf.keras.Sequential([\n",
        "    tf.keras.layers.Dense(256, activation='relu'),\n",
        "    tf.keras.layers.Dense(128, activation='relu'),\n",
        "    tf.keras.layers.Dense(64, activation='relu'),\n",
        "    tf.keras.layers.Dense(32, activation='relu'),\n",
        "    tf.keras.layers.Dense(1, activation='sigmoid')\n",
        "])\n",
        "optimizer_diff_learn_rate = Adam(learning_rate=0.001)\n",
        "\n",
        "model_2.compile(optimizer=optimizer_diff_learn_rate, loss='binary_crossentropy', metrics=['accuracy'])\n",
        "\n",
        "#early stopping criteria\n",
        "early_stopping = EarlyStopping(monitor='val_loss', patience=3)\n",
        "\n",
        "output_model2 = model_2.fit(train_dataset, validation_data=val_dataset, epochs=5,callbacks=[early_stopping])"
      ],
      "metadata": {
        "colab": {
          "base_uri": "https://localhost:8080/"
        },
        "id": "gDP82HUeIx1Z",
        "outputId": "cdb35b8b-e615-49e6-c9cb-9e9be6d5d309"
      },
      "execution_count": 19,
      "outputs": [
        {
          "output_type": "stream",
          "name": "stdout",
          "text": [
            "Epoch 1/5\n",
            "11250/11250 [==============================] - 33s 3ms/step - loss: 0.5635 - accuracy: 0.7046 - val_loss: 0.5496 - val_accuracy: 0.7177\n",
            "Epoch 2/5\n",
            "11250/11250 [==============================] - 32s 3ms/step - loss: 0.5302 - accuracy: 0.7304 - val_loss: 0.5294 - val_accuracy: 0.7308\n",
            "Epoch 3/5\n",
            "11250/11250 [==============================] - 30s 3ms/step - loss: 0.5189 - accuracy: 0.7377 - val_loss: 0.5181 - val_accuracy: 0.7391\n",
            "Epoch 4/5\n",
            "11250/11250 [==============================] - 32s 3ms/step - loss: 0.5107 - accuracy: 0.7430 - val_loss: 0.5170 - val_accuracy: 0.7384\n",
            "Epoch 5/5\n",
            "11250/11250 [==============================] - 32s 3ms/step - loss: 0.5046 - accuracy: 0.7475 - val_loss: 0.5115 - val_accuracy: 0.7431\n"
          ]
        }
      ]
    },
    {
      "cell_type": "code",
      "source": [
        "# third model\n",
        "model_3 = tf.keras.Sequential([\n",
        "    tf.keras.layers.Dense(256, activation='relu'),\n",
        "    tf.keras.layers.Dense(128, activation='relu'),\n",
        "    tf.keras.layers.Dense(64, activation='relu'),\n",
        "    tf.keras.layers.Dense(32, activation='relu'),\n",
        "    tf.keras.layers.Dense(1, activation='sigmoid')\n",
        "])\n",
        "\n",
        "optimizer_diff_learn_rate = Adam(learning_rate=0.005)\n",
        "\n",
        "model_3.compile(optimizer=optimizer_diff_learn_rate, loss='binary_crossentropy', metrics=['accuracy'])\n",
        "\n",
        "#early stopping criteria\n",
        "early_stopping = EarlyStopping(monitor='val_loss', patience=3)\n",
        "\n",
        "output_model3 = model_3.fit(train_dataset, validation_data=val_dataset, epochs=5,callbacks=[early_stopping])"
      ],
      "metadata": {
        "colab": {
          "base_uri": "https://localhost:8080/"
        },
        "id": "s28Ku6A1XH89",
        "outputId": "24e572da-e41a-4703-e116-ce1998a5652b"
      },
      "execution_count": 20,
      "outputs": [
        {
          "output_type": "stream",
          "name": "stdout",
          "text": [
            "Epoch 1/5\n",
            "11250/11250 [==============================] - 36s 3ms/step - loss: 0.5685 - accuracy: 0.7007 - val_loss: 0.5433 - val_accuracy: 0.7218\n",
            "Epoch 2/5\n",
            "11250/11250 [==============================] - 35s 3ms/step - loss: 0.5403 - accuracy: 0.7227 - val_loss: 0.5337 - val_accuracy: 0.7277\n",
            "Epoch 3/5\n",
            "11250/11250 [==============================] - 37s 3ms/step - loss: 0.5301 - accuracy: 0.7286 - val_loss: 0.5258 - val_accuracy: 0.7314\n",
            "Epoch 4/5\n",
            "11250/11250 [==============================] - 37s 3ms/step - loss: 0.5243 - accuracy: 0.7333 - val_loss: 0.5224 - val_accuracy: 0.7343\n",
            "Epoch 5/5\n",
            "11250/11250 [==============================] - 37s 3ms/step - loss: 0.5200 - accuracy: 0.7365 - val_loss: 0.5217 - val_accuracy: 0.7365\n"
          ]
        }
      ]
    },
    {
      "cell_type": "code",
      "source": [
        "# fourth model\n",
        "model_4 = tf.keras.Sequential([\n",
        "    tf.keras.layers.Dense(256, activation='relu'),\n",
        "    tf.keras.layers.Dense(128, activation='relu'),\n",
        "    tf.keras.layers.Dense(64, activation='relu'),\n",
        "    tf.keras.layers.Dense(32, activation='relu'),\n",
        "    tf.keras.layers.Dense(1, activation='sigmoid')\n",
        "])\n",
        "optimizer_diff_learn_rate = Adam(learning_rate=0.01)\n",
        "\n",
        "model_4.compile(optimizer=optimizer_diff_learn_rate, loss='binary_crossentropy', metrics=['accuracy'])\n",
        "\n",
        "\n",
        "#early stopping criteria\n",
        "early_stopping = EarlyStopping(monitor='val_loss', patience=3)\n",
        "\n",
        "output_model4 = model_4.fit(train_dataset, validation_data=val_dataset, epochs=5,callbacks=[early_stopping])"
      ],
      "metadata": {
        "colab": {
          "base_uri": "https://localhost:8080/"
        },
        "id": "YJIVl0cRxv5N",
        "outputId": "95c77176-abfd-433d-d541-f9615652da78"
      },
      "execution_count": 21,
      "outputs": [
        {
          "output_type": "stream",
          "name": "stdout",
          "text": [
            "Epoch 1/5\n",
            "11250/11250 [==============================] - 41s 3ms/step - loss: 0.5809 - accuracy: 0.6902 - val_loss: 0.5556 - val_accuracy: 0.7085\n",
            "Epoch 2/5\n",
            "11250/11250 [==============================] - 39s 3ms/step - loss: 0.5576 - accuracy: 0.7096 - val_loss: 0.5497 - val_accuracy: 0.7146\n",
            "Epoch 3/5\n",
            "11250/11250 [==============================] - 40s 3ms/step - loss: 0.5489 - accuracy: 0.7177 - val_loss: 0.5411 - val_accuracy: 0.7215\n",
            "Epoch 4/5\n",
            "11250/11250 [==============================] - 39s 3ms/step - loss: 0.5427 - accuracy: 0.7217 - val_loss: 0.5368 - val_accuracy: 0.7259\n",
            "Epoch 5/5\n",
            "11250/11250 [==============================] - 39s 3ms/step - loss: 0.5369 - accuracy: 0.7255 - val_loss: 0.5329 - val_accuracy: 0.7250\n"
          ]
        }
      ]
    },
    {
      "cell_type": "code",
      "source": [
        "model_5 = tf.keras.Sequential([\n",
        "    tf.keras.layers.Dense(256, activation='relu'),\n",
        "    tf.keras.layers.Dense(128, activation='relu'),\n",
        "    tf.keras.layers.Dense(64, activation='relu'),\n",
        "    tf.keras.layers.Dense(32, activation='relu'),\n",
        "    tf.keras.layers.Dense(1, activation='sigmoid')\n",
        "])\n",
        "optimizer_diff_learn_rate = Adam(learning_rate=0.02)\n",
        "\n",
        "model_5.compile(optimizer=optimizer_diff_learn_rate, loss='binary_crossentropy', metrics=['accuracy'])\n",
        "\n",
        "#early stopping criteria\n",
        "early_stopping = EarlyStopping(monitor='val_loss', patience=3)\n",
        "\n",
        "output_model5 = model_5.fit(train_dataset, validation_data=val_dataset, epochs=5, callbacks=[early_stopping])\n"
      ],
      "metadata": {
        "colab": {
          "base_uri": "https://localhost:8080/"
        },
        "id": "mzgqvqfgzURv",
        "outputId": "bae0a433-4344-435e-f5e2-49f0efc70088"
      },
      "execution_count": 23,
      "outputs": [
        {
          "output_type": "stream",
          "name": "stdout",
          "text": [
            "Epoch 1/5\n",
            "11250/11250 [==============================] - 40s 3ms/step - loss: 0.6077 - accuracy: 0.6718 - val_loss: 0.6141 - val_accuracy: 0.6673\n",
            "Epoch 2/5\n",
            "11250/11250 [==============================] - 38s 3ms/step - loss: 0.6577 - accuracy: 0.6252 - val_loss: 0.6743 - val_accuracy: 0.5934\n",
            "Epoch 3/5\n",
            "11250/11250 [==============================] - 37s 3ms/step - loss: 0.6815 - accuracy: 0.5675 - val_loss: 0.6736 - val_accuracy: 0.5916\n",
            "Epoch 4/5\n",
            "11250/11250 [==============================] - 39s 3ms/step - loss: 0.6762 - accuracy: 0.5824 - val_loss: 0.6735 - val_accuracy: 0.5907\n"
          ]
        }
      ]
    },
    {
      "cell_type": "code",
      "source": [
        "list_models = [model_1,model_2,model_3,model_4,model_5]\n",
        "list_output_models = [output_model1,output_model2,output_model3,output_model4,output_model5]"
      ],
      "metadata": {
        "id": "YwDBbTd9YBg5"
      },
      "execution_count": 24,
      "outputs": []
    },
    {
      "cell_type": "code",
      "source": [
        "compare_models(list_models, list_output_models, \"changes in the number of nodes in each hidden layer\")"
      ],
      "metadata": {
        "colab": {
          "base_uri": "https://localhost:8080/",
          "height": 941
        },
        "id": "HbO-n0mgnXZQ",
        "outputId": "88b66c55-c07c-47d4-b24f-90c0bea7d70e"
      },
      "execution_count": 25,
      "outputs": [
        {
          "output_type": "stream",
          "name": "stdout",
          "text": [
            "Please provide version number and change donemodel-5-learning-rate-change-25-03\n",
            "\n",
            "Model Performance Metrics for changes in the number of nodes in each hidden layer:\n",
            "\n"
          ]
        },
        {
          "output_type": "display_data",
          "data": {
            "text/plain": [
              "<Figure size 720x360 with 1 Axes>"
            ],
            "image/png": "[encoded data removed]"
          },
          "metadata": {
            "needs_background": "light"
          }
        },
        {
          "output_type": "display_data",
          "data": {
            "text/plain": [
              "<Figure size 720x360 with 1 Axes>"
            ],
            "image/png": "[encoded data removed]"
          },
          "metadata": {
            "needs_background": "light"
          }
        },
        {
          "output_type": "execute_result",
          "data": {
            "text/plain": [
              "     Model Optimizer        Loss Function  Learning Rate  Num Hidden Layers  \\\n",
              "0  Model 1      Adam  binary_crossentropy         0.0005                  3   \n",
              "1  Model 2      Adam  binary_crossentropy         0.0010                  3   \n",
              "2  Model 3      Adam  binary_crossentropy         0.0200                  3   \n",
              "3  Model 4      Adam  binary_crossentropy         0.0100                  3   \n",
              "4  Model 5      Adam  binary_crossentropy         0.0200                  3   \n",
              "\n",
              "     Num Nodes per Layer  Train Loss  Val Loss  Train Acc   Val Acc  \n",
              "0  [256, 128, 64, 32, 1]    0.504059  0.513551   0.747056  0.741731  \n",
              "1  [256, 128, 64, 32, 1]    0.504558  0.511532   0.747548  0.743148  \n",
              "2  [256, 128, 64, 32, 1]    0.519997  0.521694   0.736512  0.736498  \n",
              "3  [256, 128, 64, 32, 1]    0.536855  0.532856   0.725467  0.724956  \n",
              "4  [256, 128, 64, 32, 1]    0.676168  0.673516   0.582438  0.590672  "
            ],
            "text/html": [
              "\n",
              "  <div id=\"df-644c4283-742c-4421-8f56-78a633664f2d\">\n",
              "    <div class=\"colab-df-container\">\n",
              "      <div>\n",
              "<style scoped>\n",
              "    .dataframe tbody tr th:only-of-type {\n",
              "        vertical-align: middle;\n",
              "    }\n",
              "\n",
              "    .dataframe tbody tr th {\n",
              "        vertical-align: top;\n",
              "    }\n",
              "\n",
              "    .dataframe thead th {\n",
              "        text-align: right;\n",
              "    }\n",
              "</style>\n",
              "<table border=\"1\" class=\"dataframe\">\n",
              "  <thead>\n",
              "    <tr style=\"text-align: right;\">\n",
              "      <th></th>\n",
              "      <th>Model</th>\n",
              "      <th>Optimizer</th>\n",
              "      <th>Loss Function</th>\n",
              "      <th>Learning Rate</th>\n",
              "      <th>Num Hidden Layers</th>\n",
              "      <th>Num Nodes per Layer</th>\n",
              "      <th>Train Loss</th>\n",
              "      <th>Val Loss</th>\n",
              "      <th>Train Acc</th>\n",
              "      <th>Val Acc</th>\n",
              "    </tr>\n",
              "  </thead>\n",
              "  <tbody>\n",
              "    <tr>\n",
              "      <th>0</th>\n",
              "      <td>Model 1</td>\n",
              "      <td>Adam</td>\n",
              "      <td>binary_crossentropy</td>\n",
              "      <td>0.0005</td>\n",
              "      <td>3</td>\n",
              "      <td>[256, 128, 64, 32, 1]</td>\n",
              "      <td>0.504059</td>\n",
              "      <td>0.513551</td>\n",
              "      <td>0.747056</td>\n",
              "      <td>0.741731</td>\n",
              "    </tr>\n",
              "    <tr>\n",
              "      <th>1</th>\n",
              "      <td>Model 2</td>\n",
              "      <td>Adam</td>\n",
              "      <td>binary_crossentropy</td>\n",
              "      <td>0.0010</td>\n",
              "      <td>3</td>\n",
              "      <td>[256, 128, 64, 32, 1]</td>\n",
              "      <td>0.504558</td>\n",
              "      <td>0.511532</td>\n",
              "      <td>0.747548</td>\n",
              "      <td>0.743148</td>\n",
              "    </tr>\n",
              "    <tr>\n",
              "      <th>2</th>\n",
              "      <td>Model 3</td>\n",
              "      <td>Adam</td>\n",
              "      <td>binary_crossentropy</td>\n",
              "      <td>0.0200</td>\n",
              "      <td>3</td>\n",
              "      <td>[256, 128, 64, 32, 1]</td>\n",
              "      <td>0.519997</td>\n",
              "      <td>0.521694</td>\n",
              "      <td>0.736512</td>\n",
              "      <td>0.736498</td>\n",
              "    </tr>\n",
              "    <tr>\n",
              "      <th>3</th>\n",
              "      <td>Model 4</td>\n",
              "      <td>Adam</td>\n",
              "      <td>binary_crossentropy</td>\n",
              "      <td>0.0100</td>\n",
              "      <td>3</td>\n",
              "      <td>[256, 128, 64, 32, 1]</td>\n",
              "      <td>0.536855</td>\n",
              "      <td>0.532856</td>\n",
              "      <td>0.725467</td>\n",
              "      <td>0.724956</td>\n",
              "    </tr>\n",
              "    <tr>\n",
              "      <th>4</th>\n",
              "      <td>Model 5</td>\n",
              "      <td>Adam</td>\n",
              "      <td>binary_crossentropy</td>\n",
              "      <td>0.0200</td>\n",
              "      <td>3</td>\n",
              "      <td>[256, 128, 64, 32, 1]</td>\n",
              "      <td>0.676168</td>\n",
              "      <td>0.673516</td>\n",
              "      <td>0.582438</td>\n",
              "      <td>0.590672</td>\n",
              "    </tr>\n",
              "  </tbody>\n",
              "</table>\n",
              "</div>\n",
              "      <button class=\"colab-df-convert\" onclick=\"convertToInteractive('df-644c4283-742c-4421-8f56-78a633664f2d')\"\n",
              "              title=\"Convert this dataframe to an interactive table.\"\n",
              "              style=\"display:none;\">\n",
              "        \n",
              "  <svg xmlns=\"http://www.w3.org/2000/svg\" height=\"24px\"viewBox=\"0 0 24 24\"\n",
              "       width=\"24px\">\n",
              "    <path d=\"M0 0h24v24H0V0z\" fill=\"none\"/>\n",
              "    <path d=\"M18.56 5.44l.94 2.06.94-2.06 2.06-.94-2.06-.94-.94-2.06-.94 2.06-2.06.94zm-11 1L8.5 8.5l.94-2.06 2.06-.94-2.06-.94L8.5 2.5l-.94 2.06-2.06.94zm10 10l.94 2.06.94-2.06 2.06-.94-2.06-.94-.94-2.06-.94 2.06-2.06.94z\"/><path d=\"M17.41 7.96l-1.37-1.37c-.4-.4-.92-.59-1.43-.59-.52 0-1.04.2-1.43.59L10.3 9.45l-7.72 7.72c-.78.78-.78 2.05 0 2.83L4 21.41c.39.39.9.59 1.41.59.51 0 1.02-.2 1.41-.59l7.78-7.78 2.81-2.81c.8-.78.8-2.07 0-2.86zM5.41 20L4 18.59l7.72-7.72 1.47 1.35L5.41 20z\"/>\n",
              "  </svg>\n",
              "      </button>\n",
              "      \n",
              "  <style>\n",
              "    .colab-df-container {\n",
              "      display:flex;\n",
              "      flex-wrap:wrap;\n",
              "      gap: 12px;\n",
              "    }\n",
              "\n",
              "    .colab-df-convert {\n",
              "      background-color: #E8F0FE;\n",
              "      border: none;\n",
              "      border-radius: 50%;\n",
              "      cursor: pointer;\n",
              "      display: none;\n",
              "      fill: #1967D2;\n",
              "      height: 32px;\n",
              "      padding: 0 0 0 0;\n",
              "      width: 32px;\n",
              "    }\n",
              "\n",
              "    .colab-df-convert:hover {\n",
              "      background-color: #E2EBFA;\n",
              "      box-shadow: 0px 1px 2px rgba(60, 64, 67, 0.3), 0px 1px 3px 1px rgba(60, 64, 67, 0.15);\n",
              "      fill: #174EA6;\n",
              "    }\n",
              "\n",
              "    [theme=dark] .colab-df-convert {\n",
              "      background-color: #3B4455;\n",
              "      fill: #D2E3FC;\n",
              "    }\n",
              "\n",
              "    [theme=dark] .colab-df-convert:hover {\n",
              "      background-color: #434B5C;\n",
              "      box-shadow: 0px 1px 3px 1px rgba(0, 0, 0, 0.15);\n",
              "      filter: drop-shadow(0px 1px 2px rgba(0, 0, 0, 0.3));\n",
              "      fill: #FFFFFF;\n",
              "    }\n",
              "  </style>\n",
              "\n",
              "      <script>\n",
              "        const buttonEl =\n",
              "          document.querySelector('#df-644c4283-742c-4421-8f56-78a633664f2d button.colab-df-convert');\n",
              "        buttonEl.style.display =\n",
              "          google.colab.kernel.accessAllowed ? 'block' : 'none';\n",
              "\n",
              "        async function convertToInteractive(key) {\n",
              "          const element = document.querySelector('#df-644c4283-742c-4421-8f56-78a633664f2d');\n",
              "          const dataTable =\n",
              "            await google.colab.kernel.invokeFunction('convertToInteractive',\n",
              "                                                     [key], {});\n",
              "          if (!dataTable) return;\n",
              "\n",
              "          const docLinkHtml = 'Like what you see? Visit the ' +\n",
              "            '<a target=\"_blank\" href=https://colab.research.google.com/notebooks/data_table.ipynb>data table notebook</a>'\n",
              "            + ' to learn more about interactive tables.';\n",
              "          element.innerHTML = '';\n",
              "          dataTable['output_type'] = 'display_data';\n",
              "          await google.colab.output.renderOutput(dataTable, element);\n",
              "          const docLink = document.createElement('div');\n",
              "          docLink.innerHTML = docLinkHtml;\n",
              "          element.appendChild(docLink);\n",
              "        }\n",
              "      </script>\n",
              "    </div>\n",
              "  </div>\n",
              "  "
            ]
          },
          "metadata": {},
          "execution_count": 25
        }
      ]
    },
    {
      "cell_type": "code",
      "source": [
        "# testing for accuracy \n",
        "loss, accuracy = model_1.evaluate(test_dataset)\n",
        "\n",
        "print(\"Test loss:\", loss)\n",
        "print(\"Test accuracy:\", accuracy)\n"
      ],
      "metadata": {
        "id": "6vnam_fNDdej",
        "colab": {
          "base_uri": "https://localhost:8080/"
        },
        "outputId": "2f765d30-ed79-4926-b911-ca679346478b"
      },
      "execution_count": 26,
      "outputs": [
        {
          "output_type": "stream",
          "name": "stdout",
          "text": [
            "3750/3750 [==============================] - 7s 2ms/step - loss: 0.5146 - accuracy: 0.7393\n",
            "Test loss: 0.5145990252494812\n",
            "Test accuracy: 0.739341676235199\n"
          ]
        }
      ]
    },
    {
      "cell_type": "code",
      "source": [],
      "metadata": {
        "id": "Vad4k5MlB3rd"
      },
      "execution_count": null,
      "outputs": []
    }
  ]
}