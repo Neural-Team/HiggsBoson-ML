{
  "cells": [
    {
      "cell_type": "code",
      "execution_count": 2,
      "metadata": {
        "colab": {
          "base_uri": "https://localhost:8080/"
        },
        "id": "bKDIpgg0eZ2P",
        "outputId": "0dc3a8a6-b974-44a0-91cf-176904f42b82"
      },
      "outputs": [
        {
          "ename": "ModuleNotFoundError",
          "evalue": "No module named 'google.colab'",
          "output_type": "error",
          "traceback": [
            "\u001b[0;31m---------------------------------------------------------------------------\u001b[0m",
            "\u001b[0;31mModuleNotFoundError\u001b[0m                       Traceback (most recent call last)",
            "Cell \u001b[0;32mIn[2], line 1\u001b[0m\n\u001b[0;32m----> 1\u001b[0m \u001b[39mfrom\u001b[39;00m \u001b[39mgoogle\u001b[39;00m\u001b[39m.\u001b[39;00m\u001b[39mcolab\u001b[39;00m \u001b[39mimport\u001b[39;00m drive\n\u001b[1;32m      2\u001b[0m drive\u001b[39m.\u001b[39mmount(\u001b[39m'\u001b[39m\u001b[39m/content/drive\u001b[39m\u001b[39m'\u001b[39m)\n",
            "\u001b[0;31mModuleNotFoundError\u001b[0m: No module named 'google.colab'"
          ]
        }
      ],
      "source": [
        "from google.colab import drive\n",
        "drive.mount('/content/drive')"
      ]
    },
    {
      "cell_type": "code",
      "execution_count": 2,
      "metadata": {
        "id": "i1jRZ8tOeyk9"
      },
      "outputs": [],
      "source": [
        "import tensorflow as tf\n",
        "from tensorflow.keras.models import Sequential, load_model\n",
        "from tensorflow.keras.layers import Dense\n",
        "from tensorflow.keras.callbacks import EarlyStopping  # used for convergence criteria\n",
        "from sklearn.metrics import accuracy_score\n",
        "from sklearn.preprocessing import StandardScaler\n",
        "import pandas as pd\n",
        "import numpy as np"
      ]
    },
    {
      "cell_type": "code",
      "execution_count": 3,
      "metadata": {
        "colab": {
          "base_uri": "https://localhost:8080/"
        },
        "id": "uM5auSsOe1ea",
        "outputId": "e0e2f254-b4e4-49c5-bdd4-11cbfdd8813a"
      },
      "outputs": [
        {
          "name": "stderr",
          "output_type": "stream",
          "text": [
            "<ipython-input-3-5184d83a31cf>:5: DtypeWarning: Columns (8,21) have mixed types. Specify dtype option on import or set low_memory=False.\n",
            "  df = pd.read_csv(csv_file, header=None, names=column_names)\n"
          ]
        }
      ],
      "source": [
        "csv_file = \"/content/drive/My Drive/Dataset/HIGGS_train.csv\"  # path to csv\n",
        "\n",
        "# Defining column names, Loading data\n",
        "column_names = [\"outcome\"] + [\"feature \"+str(i) for i in range(1,29)]\n",
        "df = pd.read_csv(csv_file, header=None, names=column_names)\n",
        "\n"
      ]
    },
    {
      "cell_type": "code",
      "execution_count": null,
      "metadata": {},
      "outputs": [],
      "source": [
        "# converting strings to float and removing rows with nan values. (pre-processing)\n",
        "df = df.apply(pd.to_numeric, errors='coerce')\n",
        "df = df.dropna()\n",
        "\n",
        "# Feature scaling\n",
        "X_df = df.iloc[:, 1:]   # removes the output variable for preprocessing\n",
        "scaler = StandardScaler()\n",
        "X_scaled = scaler.fit_transform(X_df)\n",
        "#print(\"After Scaling\")\n",
        "#print(np.mean(X_scaled, axis=0))  \n",
        "#print(np.std(X_scaled,axis=0))\n",
        "df = pd.DataFrame(np.concatenate([df.iloc[:, :1].values, X_scaled], axis=1), columns=['outcome'] + list(df.columns[1:])) # merging"
      ]
    },
    {
      "cell_type": "code",
      "execution_count": 4,
      "metadata": {
        "id": "WR4Bt4sBe9eq"
      },
      "outputs": [],
      "source": [
        "train_df, val_df, test_df = np.split(df.sample(frac=1, random_state=42), [int(0.6*len(df)), int(0.8*len(df))]) #splitting the data"
      ]
    },
    {
      "cell_type": "code",
      "execution_count": 5,
      "metadata": {
        "id": "6DAGOXZLfAin"
      },
      "outputs": [],
      "source": [
        "# The code below is used to create a tensorflow dataframe with the training data. Prior to using this dataframe, the RAM would constantly overflow. With this dataframe, however,\n",
        "# the RAM is far from overflowing. \n",
        "\n",
        "\n",
        "train_df, val_df, test_df = np.split(df.sample(frac=1, random_state=42), [int(0.6*len(df)), int(0.8*len(df))]) #splitting the data\n",
        "\n",
        "# Creating tensors from the previous partitions, which will be used below to create the tensorflow dataset.\n",
        "train_labels = tf.constant(train_df[\"outcome\"].values)\n",
        "train_features = tf.constant(train_df.drop(\"outcome\", axis=1).values)\n",
        "val_labels = tf.constant(val_df[\"outcome\"].values)\n",
        "val_features = tf.constant(val_df.drop(\"outcome\", axis=1).values)\n",
        "test_labels = tf.constant(test_df[\"outcome\"].values)\n",
        "test_features = tf.constant(test_df.drop(\"outcome\", axis=1).values)\n",
        "\n",
        "# Create TensorFlow datasets from the data (features are 1 column, train labels are the other column)\n",
        "train_dataset = tf.data.Dataset.from_tensor_slices((train_features, train_labels))\n",
        "val_dataset = tf.data.Dataset.from_tensor_slices((val_features, val_labels))\n",
        "test_dataset = tf.data.Dataset.from_tensor_slices((test_features, test_labels))\n",
        "\n",
        "#shuffling and batching the data.\n",
        "batch_size = 32\n",
        "train_buffer_size = tf.data.experimental.cardinality(train_dataset).numpy()   # setting buffer of the shuffle function to the maximum number of elements in the respective dataframe\n",
        "val_buffer_size = tf.data.experimental.cardinality(val_dataset).numpy()\n",
        "test_buffer_size = tf.data.experimental.cardinality(test_dataset).numpy()\n",
        "\n",
        "train_dataset = train_dataset.shuffle(buffer_size=train_buffer_size)\n",
        "train_dataset = train_dataset.batch(batch_size=batch_size)  # in this dataset, every element is a batch, which makes the code memory efficient\n",
        "\n",
        "val_dataset = val_dataset.shuffle(buffer_size=val_buffer_size)\n",
        "val_dataset = val_dataset.batch(batch_size=batch_size)\n",
        "\n",
        "test_dataset = test_dataset.shuffle(buffer_size=test_buffer_size)\n",
        "test_dataset = test_dataset.batch(batch_size=batch_size)\n",
        "\n",
        "# prefetching the data that will be used after the current one. \n",
        "train_dataset = train_dataset.prefetch(buffer_size=tf.data.AUTOTUNE)  #tf.data.AUTOTUNE allows tensorflow to automatically determine the right amount of buffer size for prefetch\n",
        "val_dataset = val_dataset.prefetch(buffer_size=tf.data.AUTOTUNE)\n",
        "test_dataset = test_dataset.prefetch(buffer_size=tf.data.AUTOTUNE)"
      ]
    },
    {
      "cell_type": "code",
      "execution_count": 6,
      "metadata": {
        "id": "Cn1CTrKJfGlY"
      },
      "outputs": [],
      "source": [
        "num_elements = tf.data.experimental.cardinality(train_dataset).numpy()"
      ]
    },
    {
      "cell_type": "code",
      "execution_count": 7,
      "metadata": {
        "colab": {
          "base_uri": "https://localhost:8080/"
        },
        "id": "bm5YfIq5fag1",
        "outputId": "7cc95be7-2b7d-4885-cca7-cedf1c5bb99c"
      },
      "outputs": [
        {
          "name": "stdout",
          "output_type": "stream",
          "text": [
            "11250\n"
          ]
        }
      ],
      "source": [
        "# Number of batches in the tensor\n",
        "num_datapoints = len(train_dataset)\n",
        "print(num_datapoints)"
      ]
    },
    {
      "cell_type": "code",
      "execution_count": 8,
      "metadata": {
        "colab": {
          "base_uri": "https://localhost:8080/"
        },
        "id": "V1YxW0V-fbIY",
        "outputId": "852993c3-e3cc-4edb-8d36-e741e63c5087"
      },
      "outputs": [
        {
          "name": "stdout",
          "output_type": "stream",
          "text": [
            "Epoch 1/2\n",
            "11250/11250 [==============================] - 21s 2ms/step - loss: 0.6134 - accuracy: 0.6568 - val_loss: 0.5850 - val_accuracy: 0.6870\n",
            "Epoch 2/2\n",
            "11250/11250 [==============================] - 21s 2ms/step - loss: 0.5811 - accuracy: 0.6898 - val_loss: 0.5692 - val_accuracy: 0.7012\n"
          ]
        }
      ],
      "source": [
        "# first model\n",
        "model_1 = tf.keras.Sequential([\n",
        "    tf.keras.layers.Dense(64, activation='relu'),\n",
        "    tf.keras.layers.Dense(32, activation='relu'),\n",
        "    tf.keras.layers.Dense(32, activation='relu'),\n",
        "    tf.keras.layers.Dense(32, activation='relu'),\n",
        "\n",
        "\n",
        "    tf.keras.layers.Dense(1, activation='sigmoid')\n",
        "])\n",
        "model_1.compile(optimizer='adam', loss='binary_crossentropy', metrics=['accuracy'])\n",
        "\n",
        "#early stopping callback\n",
        "early_stopping = EarlyStopping(monitor='val_loss', patience=3)\n",
        "\n",
        "output_model1 = model_1.fit(train_dataset, validation_data=val_dataset, epochs=2,callbacks=[early_stopping])"
      ]
    },
    {
      "cell_type": "code",
      "execution_count": 9,
      "metadata": {
        "colab": {
          "base_uri": "https://localhost:8080/"
        },
        "id": "oSae3iL6gHNR",
        "outputId": "8e14a433-8c20-4198-c397-fff28e5bc308"
      },
      "outputs": [
        {
          "name": "stdout",
          "output_type": "stream",
          "text": [
            "3750/3750 [==============================] - 4s 951us/step - loss: 0.5689 - accuracy: 0.7003\n",
            "Test loss: 0.5688731074333191\n",
            "Test accuracy: 0.7002750039100647\n"
          ]
        }
      ],
      "source": [
        "# testing for accuracy \n",
        "loss, accuracy = model_1.evaluate(test_dataset)\n",
        "\n",
        "print(\"Test loss:\", loss)\n",
        "print(\"Test accuracy:\", accuracy)\n"
      ]
    },
    {
      "cell_type": "code",
      "execution_count": null,
      "metadata": {
        "id": "TjLnuxCjgSws"
      },
      "outputs": [],
      "source": []
    }
  ],
  "metadata": {
    "colab": {
      "provenance": []
    },
    "kernelspec": {
      "display_name": "Python 3",
      "name": "python3"
    },
    "language_info": {
      "codemirror_mode": {
        "name": "ipython",
        "version": 3
      },
      "file_extension": ".py",
      "mimetype": "text/x-python",
      "name": "python",
      "nbconvert_exporter": "python",
      "pygments_lexer": "ipython3",
      "version": "3.9.5"
    }
  },
  "nbformat": 4,
  "nbformat_minor": 0
}
