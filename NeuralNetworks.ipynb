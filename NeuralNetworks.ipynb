{
  "cells": [
    {
      "cell_type": "code",
      "execution_count": 5,
      "metadata": {
        "id": "IH_c-aBfnYoY",
        "colab": {
          "base_uri": "https://localhost:8080/"
        },
        "outputId": "2ec96e01-d9b3-4e15-de2d-5354299e5fd7"
      },
      "outputs": [
        {
          "output_type": "stream",
          "name": "stdout",
          "text": [
            "Mounted at /content/drive\n"
          ]
        }
      ],
      "source": [
        "from google.colab import drive\n",
        "drive.mount('/content/drive')"
      ]
    },
    {
      "cell_type": "code",
      "execution_count": 6,
      "metadata": {
        "id": "SZg0LfLJ8Vvo"
      },
      "outputs": [],
      "source": [
        "import tensorflow as tf\n",
        "from tensorflow.keras.models import Sequential, load_model\n",
        "from tensorflow.keras.layers import Dense\n",
        "from tensorflow.keras.callbacks import EarlyStopping  # used for convergence criteria\n",
        "from sklearn.metrics import accuracy_score\n",
        "from sklearn.preprocessing import StandardScaler\n",
        "import pandas as pd\n",
        "import numpy as np\n",
        "import matplotlib.pyplot as plt"
      ]
    },
    {
      "cell_type": "code",
      "execution_count": 7,
      "metadata": {
        "id": "UPoYCz3vkq8q"
      },
      "outputs": [],
      "source": [
        "# Three function are defined below to create tables and graphs. These will make the comparison between models simple. \n",
        "\n",
        "def create_metric_table(models, train_history,changes,version_number):\n",
        "    # Create a dataframe to store the model performance metrics\n",
        "    metrics = pd.DataFrame(columns=[\"Model\", \"Optimizer\", \"Loss Function\", \"Learning Rate\", \"Num Hidden Layers\", \"Num Nodes per Layer\", \"Train Loss\", \"Val Loss\", \"Train Acc\", \"Val Acc\"])\n",
        "\n",
        "    # iterates through each model and retrieve its respective performance metric\n",
        "    for i, model in enumerate(models): # enumerate function helps retrieve the model and its index\n",
        "        optimizer = str(model.optimizer.__class__.__name__)\n",
        "        loss_function = str(model.loss)\n",
        "        α = model.optimizer.lr.numpy()\n",
        "        num_hidden_layers = len(model.layers) - 2 # Subtracting input and output layers\n",
        "        num_nodes_per_layer = [layer.output_shape[1] for layer in model.layers if hasattr(layer, 'output_shape')]\n",
        "        train_loss = train_history[i].history[\"loss\"][-1]\n",
        "        val_loss = train_history[i].history[\"val_loss\"][-1]\n",
        "        train_acc = train_history[i].history[\"accuracy\"][-1]\n",
        "        val_acc = train_history[i].history[\"val_accuracy\"][-1]\n",
        "        \n",
        "        # this adds the performance metrics (gathered above) to the metrics dataframe\n",
        "        metrics.loc[i] = [f\"Model {i+1}\", optimizer, loss_function, α, num_hidden_layers, num_nodes_per_layer, train_loss, val_loss, train_acc, val_acc]\n",
        "\n",
        "    print(f\"\\nModel Performance Metrics for {changes}:\")\n",
        "    \n",
        "    # Saving the dataframe to a csv file in Google Drive (for the report)\n",
        "    folder_path = \"/content/drive/MyDrive/model_comparisons\"\n",
        "    file_name = f\"metrics{version_number}.csv\"\n",
        "    file_path = folder_path + \"/\" + file_name\n",
        "    metrics.to_csv(file_path, index=False)\n",
        "    return metrics\n",
        "\n",
        "def create_graphs(train_history,version_number):\n",
        "\n",
        "    colors = ['blue', 'green', 'red', 'cyan', 'magenta', 'yellow', 'black', 'purple']\n",
        "# STOPPED HERE\n",
        "    # Plotting the model for training and validation loss\n",
        "    plt.figure(figsize=(10, 5))\n",
        "    for i, history in enumerate(train_history):\n",
        "        plt.plot(history.history[\"loss\"], color=colors[i], label=f\"Model {i+1} Train Loss\")\n",
        "        plt.plot(history.history[\"val_loss\"], '--', color=colors[i], label=f\"Model {i+1} Val Loss\")\n",
        "    plt.title(\"Model Loss Comparison\")\n",
        "    plt.ylabel(\"Loss\")\n",
        "    plt.xlabel(\"Epoch\")\n",
        "    plt.legend(ncol=2,fontsize='small')\n",
        "    folder_path = \"/content/drive/MyDrive/model_comparisons\"\n",
        "    file_name = f\"loss{version_number}.png\"\n",
        "    file_path = folder_path + \"/\" + file_name\n",
        "    plt.savefig(file_path, dpi=300)\n",
        "    plt.show()\n",
        "    plt.show()\n",
        "\n",
        "    # plotting the model for training and validation accuracy.\n",
        "    plt.figure(figsize=(10, 5))\n",
        "    for i, history in enumerate(train_history):\n",
        "        plt.plot(history.history[\"accuracy\"], color=colors[i], label=f\"Model {i+1} Train Acc\")\n",
        "        plt.plot(history.history[\"val_accuracy\"], '--', color=colors[i], label=f\"Model {i+1} Val Acc\")\n",
        "    plt.title(\"Model Accuracy Comparison\")\n",
        "    plt.ylabel(\"Accuracy\")\n",
        "    plt.xlabel(\"Epoch\")\n",
        "    plt.legend(ncol=2,fontsize='small')\n",
        "    #saving the graph in Google Drive\n",
        "    file_name = f\"accuracy{version_number}.png\"\n",
        "    file_path = folder_path + \"/\" + file_name\n",
        "    plt.savefig(file_path, dpi=300)\n",
        "    plt.show()\n",
        "\n",
        "def compare_models(models, train_history,changes):\n",
        "    version_number = '-'\n",
        "    version_number += input('Please provide version number and change done')\n",
        "    # create the table\n",
        "    metric_table = create_metric_table(models, train_history,changes,version_number)\n",
        "    print('')\n",
        "    # Create the graphs.\n",
        "    create_graphs(train_history,version_number)\n",
        "    return metric_table"
      ]
    },
    {
      "cell_type": "code",
      "execution_count": 8,
      "metadata": {
        "colab": {
          "base_uri": "https://localhost:8080/"
        },
        "id": "XqOuFgUaJwuB",
        "outputId": "d3c72662-eb37-41d6-c731-5a89fe590842"
      },
      "outputs": [
        {
          "output_type": "stream",
          "name": "stderr",
          "text": [
            "<ipython-input-8-167241cbd6c8>:5: DtypeWarning: Columns (8,21) have mixed types. Specify dtype option on import or set low_memory=False.\n",
            "  df = pd.read_csv(csv_file, header=None, names=column_names)\n"
          ]
        }
      ],
      "source": [
        "csv_file = \"/content/drive/My Drive/Dataset/HIGGS_train.csv\"  # path to csv\n",
        "\n",
        "# Defining column names, Loading data\n",
        "column_names = [\"outcome\"] + [\"feature \"+str(i) for i in range(1,29)]\n",
        "df = pd.read_csv(csv_file, header=None, names=column_names)"
      ]
    },
    {
      "cell_type": "code",
      "execution_count": 9,
      "metadata": {
        "id": "jkzX_Kj7KYf4"
      },
      "outputs": [],
      "source": [
        "# converting strings to float and removing rows with nan values. (pre-processing)\n",
        "df = df.apply(pd.to_numeric, errors='coerce')\n",
        "df = df.dropna()"
      ]
    },
    {
      "cell_type": "code",
      "execution_count": 10,
      "metadata": {
        "id": "eLHwcpG_toLC"
      },
      "outputs": [],
      "source": [
        "# The code below is used to create a tensorflow dataframe with the training data. Prior to using this dataframe, the RAM would constantly overflow. With this dataframe, however,\n",
        "# the RAM is far from overflowing. \n",
        "\n",
        "from sklearn.preprocessing import StandardScaler\n",
        "\n",
        "train_df, val_df, test_df = np.split(df.sample(frac=1, random_state=42), [int(0.6*len(df)), int(0.8*len(df))]) #splitting the data\n",
        "\n",
        "#assuming the output variable is in the first column\n",
        "X_train = train_df.iloc[:, 1:]\n",
        "y_train = train_df.iloc[:, 0]\n",
        "X_val = val_df.iloc[:, 1:]\n",
        "y_val = val_df.iloc[:, 0]\n",
        "X_test = test_df.iloc[:, 1:]\n",
        "y_test = test_df.iloc[:, 0]\n",
        "\n",
        "scaler = StandardScaler()\n",
        "# Fit and transform the input features for each dataset\n",
        "X_train_scaled = scaler.fit_transform(X_train)\n",
        "X_val_scaled = scaler.transform(X_val)\n",
        "X_test_scaled = scaler.transform(X_test)  \n",
        "\n",
        "# Create tensors from the previous partitions\n",
        "train_labels = tf.constant(y_train.values)\n",
        "train_features = tf.constant(X_train_scaled)\n",
        "val_labels = tf.constant(y_val.values)\n",
        "val_features = tf.constant(X_val_scaled)\n",
        "test_labels = tf.constant(y_test.values)\n",
        "test_features = tf.constant(X_test_scaled)\n",
        "\n",
        "# Create TensorFlow datasets from the data (features are 1 column, train labels are the other column)\n",
        "train_dataset = tf.data.Dataset.from_tensor_slices((train_features, train_labels))\n",
        "val_dataset = tf.data.Dataset.from_tensor_slices((val_features, val_labels))\n",
        "test_dataset = tf.data.Dataset.from_tensor_slices((test_features, test_labels))\n",
        "\n",
        "#shuffling and batching the data.\n",
        "batch_size = 32\n",
        "train_buffer_size = tf.data.experimental.cardinality(train_dataset).numpy()   # setting buffer of the shuffle function to the maximum number of elements in the respective dataframe\n",
        "val_buffer_size = tf.data.experimental.cardinality(val_dataset).numpy()\n",
        "test_buffer_size = tf.data.experimental.cardinality(test_dataset).numpy()\n",
        "\n",
        "train_dataset = train_dataset.shuffle(buffer_size=train_buffer_size)\n",
        "train_dataset = train_dataset.batch(batch_size=batch_size)  # in this dataset, every element is a batch, which makes the code memory efficient\n",
        "\n",
        "val_dataset = val_dataset.shuffle(buffer_size=val_buffer_size)\n",
        "val_dataset = val_dataset.batch(batch_size=batch_size)\n",
        "\n",
        "test_dataset = test_dataset.shuffle(buffer_size=test_buffer_size)\n",
        "test_dataset = test_dataset.batch(batch_size=batch_size)\n",
        "\n",
        "# prefetching the data that will be used after the current one. \n",
        "train_dataset = train_dataset.prefetch(buffer_size=tf.data.AUTOTUNE)  #tf.data.AUTOTUNE allows tensorflow to automatically determine the right amount of buffer size for prefetch\n",
        "val_dataset = val_dataset.prefetch(buffer_size=tf.data.AUTOTUNE)\n",
        "test_dataset = test_dataset.prefetch(buffer_size=tf.data.AUTOTUNE)"
      ]
    },
    {
      "cell_type": "code",
      "execution_count": null,
      "metadata": {
        "id": "lKWJ_Jqy4W1B"
      },
      "outputs": [],
      "source": [
        "num_elements = tf.data.experimental.cardinality(train_dataset).numpy()"
      ]
    },
    {
      "cell_type": "code",
      "execution_count": null,
      "metadata": {
        "id": "KrrZZiNf8VRW"
      },
      "outputs": [],
      "source": [
        "from tensorflow.keras.optimizers import Adam"
      ]
    },
    {
      "cell_type": "code",
      "execution_count": null,
      "metadata": {
        "colab": {
          "base_uri": "https://localhost:8080/"
        },
        "id": "XkGo6Z0x09uS",
        "outputId": "e81b79b8-c5da-4758-aaf2-d02bc82512c1"
      },
      "outputs": [
        {
          "output_type": "stream",
          "name": "stdout",
          "text": [
            "Epoch 1/20\n",
            "11250/11250 [==============================] - 63s 5ms/step - loss: 0.6164 - accuracy: 0.6925 - val_loss: 0.5814 - val_accuracy: 0.7148\n",
            "Epoch 2/20\n",
            "11250/11250 [==============================] - 60s 5ms/step - loss: 0.5794 - accuracy: 0.7158 - val_loss: 0.5757 - val_accuracy: 0.7196\n",
            "Epoch 3/20\n",
            "11250/11250 [==============================] - 52s 5ms/step - loss: 0.5741 - accuracy: 0.7204 - val_loss: 0.5716 - val_accuracy: 0.7223\n",
            "Epoch 4/20\n",
            "11250/11250 [==============================] - 53s 5ms/step - loss: 0.5722 - accuracy: 0.7215 - val_loss: 0.5705 - val_accuracy: 0.7254\n",
            "Epoch 5/20\n",
            "11250/11250 [==============================] - 52s 5ms/step - loss: 0.5708 - accuracy: 0.7228 - val_loss: 0.5683 - val_accuracy: 0.7266\n",
            "Epoch 6/20\n",
            "11250/11250 [==============================] - 53s 5ms/step - loss: 0.5703 - accuracy: 0.7236 - val_loss: 0.5680 - val_accuracy: 0.7255\n",
            "Epoch 7/20\n",
            "11250/11250 [==============================] - 62s 5ms/step - loss: 0.5702 - accuracy: 0.7235 - val_loss: 0.5709 - val_accuracy: 0.7238\n",
            "Epoch 8/20\n",
            "11250/11250 [==============================] - 52s 5ms/step - loss: 0.5700 - accuracy: 0.7239 - val_loss: 0.5696 - val_accuracy: 0.7272\n",
            "Epoch 9/20\n",
            "11250/11250 [==============================] - 53s 5ms/step - loss: 0.5699 - accuracy: 0.7242 - val_loss: 0.5683 - val_accuracy: 0.7267\n",
            "Epoch 10/20\n",
            "11250/11250 [==============================] - 52s 5ms/step - loss: 0.5695 - accuracy: 0.7249 - val_loss: 0.5691 - val_accuracy: 0.7258\n",
            "Epoch 11/20\n",
            "11250/11250 [==============================] - 56s 5ms/step - loss: 0.5696 - accuracy: 0.7237 - val_loss: 0.5711 - val_accuracy: 0.7221\n"
          ]
        }
      ],
      "source": [
        "from tensorflow.keras.regularizers import L2\n",
        "\n",
        "# Hyperparameters\n",
        "l2_lambda = 0.001\n",
        "\n",
        "# First model\n",
        "model_1 = tf.keras.Sequential([\n",
        "    tf.keras.layers.Dense(64, activation='relu', kernel_regularizer=L2(l2_lambda)),\n",
        "    tf.keras.layers.Dense(128, activation='relu', kernel_regularizer=L2(l2_lambda)),\n",
        "    tf.keras.layers.Dense(128, activation='relu', kernel_regularizer=L2(l2_lambda)),\n",
        "    tf.keras.layers.Dense(32, activation='relu', kernel_regularizer=L2(l2_lambda)),\n",
        "    tf.keras.layers.Dense(1, activation='sigmoid', kernel_regularizer=L2(l2_lambda))\n",
        "])\n",
        "\n",
        "optimizer_diff_learn_rate = Adam(learning_rate=0.001)\n",
        "\n",
        "model_1.compile(optimizer=optimizer_diff_learn_rate, loss='binary_crossentropy', metrics=['accuracy'])\n",
        "\n",
        "# Early stopping criteria\n",
        "early_stopping = EarlyStopping(monitor='val_loss', patience=5)\n",
        "\n",
        "output_model1 = model_1.fit(train_dataset, validation_data=val_dataset, epochs=20, callbacks=[early_stopping])\n"
      ]
    },
    {
      "cell_type": "code",
      "execution_count": null,
      "metadata": {
        "id": "s28Ku6A1XH89",
        "colab": {
          "base_uri": "https://localhost:8080/"
        },
        "outputId": "72b7790d-60f5-416d-d94e-56bf2e2d2ded"
      },
      "outputs": [
        {
          "output_type": "stream",
          "name": "stdout",
          "text": [
            "Epoch 1/20\n",
            "11250/11250 [==============================] - 55s 5ms/step - loss: 0.6155 - accuracy: 0.6951 - val_loss: 0.5839 - val_accuracy: 0.7127\n",
            "Epoch 2/20\n",
            "11250/11250 [==============================] - 53s 5ms/step - loss: 0.5784 - accuracy: 0.7157 - val_loss: 0.5811 - val_accuracy: 0.7135\n",
            "Epoch 3/20\n",
            "11250/11250 [==============================] - 52s 5ms/step - loss: 0.5734 - accuracy: 0.7203 - val_loss: 0.5732 - val_accuracy: 0.7207\n",
            "Epoch 4/20\n",
            "11250/11250 [==============================] - 53s 5ms/step - loss: 0.5714 - accuracy: 0.7221 - val_loss: 0.5733 - val_accuracy: 0.7207\n",
            "Epoch 5/20\n",
            "11250/11250 [==============================] - 53s 5ms/step - loss: 0.5700 - accuracy: 0.7232 - val_loss: 0.5732 - val_accuracy: 0.7205\n",
            "Epoch 6/20\n",
            "11250/11250 [==============================] - 56s 5ms/step - loss: 0.5696 - accuracy: 0.7243 - val_loss: 0.5676 - val_accuracy: 0.7263\n",
            "Epoch 7/20\n",
            "11250/11250 [==============================] - 53s 5ms/step - loss: 0.5690 - accuracy: 0.7251 - val_loss: 0.5678 - val_accuracy: 0.7251\n",
            "Epoch 8/20\n",
            "11250/11250 [==============================] - 53s 5ms/step - loss: 0.5690 - accuracy: 0.7246 - val_loss: 0.5678 - val_accuracy: 0.7259\n",
            "Epoch 9/20\n",
            "11250/11250 [==============================] - 52s 5ms/step - loss: 0.5686 - accuracy: 0.7251 - val_loss: 0.5664 - val_accuracy: 0.7269\n",
            "Epoch 10/20\n",
            "11250/11250 [==============================] - 55s 5ms/step - loss: 0.5686 - accuracy: 0.7246 - val_loss: 0.5692 - val_accuracy: 0.7255\n",
            "Epoch 11/20\n",
            "11250/11250 [==============================] - 53s 5ms/step - loss: 0.5685 - accuracy: 0.7246 - val_loss: 0.5704 - val_accuracy: 0.7245\n",
            "Epoch 12/20\n",
            "11250/11250 [==============================] - 53s 5ms/step - loss: 0.5683 - accuracy: 0.7251 - val_loss: 0.5660 - val_accuracy: 0.7263\n",
            "Epoch 13/20\n",
            "11250/11250 [==============================] - 54s 5ms/step - loss: 0.5684 - accuracy: 0.7244 - val_loss: 0.5677 - val_accuracy: 0.7254\n",
            "Epoch 14/20\n",
            "11250/11250 [==============================] - 55s 5ms/step - loss: 0.5679 - accuracy: 0.7251 - val_loss: 0.5680 - val_accuracy: 0.7263\n",
            "Epoch 15/20\n",
            "11250/11250 [==============================] - 56s 5ms/step - loss: 0.5679 - accuracy: 0.7259 - val_loss: 0.5694 - val_accuracy: 0.7236\n",
            "Epoch 16/20\n",
            "11250/11250 [==============================] - 56s 5ms/step - loss: 0.5678 - accuracy: 0.7254 - val_loss: 0.5698 - val_accuracy: 0.7248\n",
            "Epoch 17/20\n",
            "11250/11250 [==============================] - 52s 5ms/step - loss: 0.5677 - accuracy: 0.7258 - val_loss: 0.5666 - val_accuracy: 0.7287\n"
          ]
        }
      ],
      "source": [
        "# Hyperparameters\n",
        "l2_lambda = 0.001\n",
        "\n",
        "# Third model\n",
        "model_3 = tf.keras.Sequential([\n",
        "    tf.keras.layers.Dense(256, activation='relu', kernel_regularizer=L2(l2_lambda)),\n",
        "    tf.keras.layers.Dense(128, activation='relu', kernel_regularizer=L2(l2_lambda)),\n",
        "    tf.keras.layers.Dense(64, activation='relu', kernel_regularizer=L2(l2_lambda)),\n",
        "    tf.keras.layers.Dense(32, activation='relu', kernel_regularizer=L2(l2_lambda)),\n",
        "    tf.keras.layers.Dense(1, activation='sigmoid', kernel_regularizer=L2(l2_lambda))\n",
        "])\n",
        "\n",
        "optimizer_diff_learn_rate = Adam(learning_rate=0.001)\n",
        "\n",
        "model_3.compile(optimizer=optimizer_diff_learn_rate, loss='binary_crossentropy', metrics=['accuracy'])\n",
        "\n",
        "# Early stopping criteria\n",
        "early_stopping = EarlyStopping(monitor='val_loss', patience=5)\n",
        "\n",
        "output_model3 = model_3.fit(train_dataset, validation_data=val_dataset, epochs=20, callbacks=[early_stopping])"
      ]
    },
    {
      "cell_type": "code",
      "execution_count": null,
      "metadata": {
        "id": "gDP82HUeIx1Z"
      },
      "outputs": [],
      "source": [
        "# second model\n",
        "model_2 = tf.keras.Sequential([\n",
        "    tf.keras.layers.Dense(64, activation='relu', kernel_regularizer=L2(l2_lambda)),\n",
        "    tf.keras.layers.Dense(128, activation='relu', kernel_regularizer=L2(l2_lambda)),\n",
        "    tf.keras.layers.Dense(128, activation='relu', kernel_regularizer=L2(l2_lambda)),\n",
        "    tf.keras.layers.Dense(128, activation='relu', kernel_regularizer=L2(l2_lambda)),\n",
        "    tf.keras.layers.Dense(128, activation='relu', kernel_regularizer=L2(l2_lambda)),\n",
        "    tf.keras.layers.Dense(128, activation='relu', kernel_regularizer=L2(l2_lambda)),\n",
        "    tf.keras.layers.Dense(128, activation='relu', kernel_regularizer=L2(l2_lambda)),\n",
        "    tf.keras.layers.Dense(128, activation='relu', kernel_regularizer=L2(l2_lambda)),\n",
        "    tf.keras.layers.Dense(128, activation='relu', kernel_regularizer=L2(l2_lambda)),\n",
        "    tf.keras.layers.Dense(128, activation='relu', kernel_regularizer=L2(l2_lambda)),\n",
        "    tf.keras.layers.Dense(128, activation='relu', kernel_regularizer=L2(l2_lambda)),\n",
        "    tf.keras.layers.Dense(128, activation='relu', kernel_regularizer=L2(l2_lambda)),\n",
        "    tf.keras.layers.Dense(128, activation='relu', kernel_regularizer=L2(l2_lambda)),\n",
        "    tf.keras.layers.Dense(32, activation='relu', kernel_regularizer=L2(l2_lambda)),\n",
        "    tf.keras.layers.Dense(1, activation='sigmoid', kernel_regularizer=L2(l2_lambda))\n",
        "])\n",
        "optimizer_diff_learn_rate = Adam(learning_rate=0.001)\n",
        "\n",
        "model_2.compile(optimizer=optimizer_diff_learn_rate, loss='binary_crossentropy', metrics=['accuracy'])\n",
        "\n",
        "#early stopping criteria\n",
        "early_stopping = EarlyStopping(monitor='val_loss', patience=3)\n",
        "\n",
        "#output_model2 = model_2.fit(train_dataset, validation_data=val_dataset, epochs=10,callbacks=[early_stopping])"
      ]
    },
    {
      "cell_type": "code",
      "execution_count": null,
      "metadata": {
        "id": "YJIVl0cRxv5N",
        "colab": {
          "base_uri": "https://localhost:8080/"
        },
        "outputId": "f467adc8-e60d-4371-eecb-87868932e1f5"
      },
      "outputs": [
        {
          "output_type": "stream",
          "name": "stdout",
          "text": [
            "Epoch 1/20\n",
            "11250/11250 [==============================] - 93s 8ms/step - loss: 0.6981 - accuracy: 0.5294 - val_loss: 0.6914 - val_accuracy: 0.5292\n",
            "Epoch 2/20\n",
            "11250/11250 [==============================] - 85s 8ms/step - loss: 0.6915 - accuracy: 0.5294 - val_loss: 0.6914 - val_accuracy: 0.5292\n",
            "Epoch 3/20\n",
            "11250/11250 [==============================] - 86s 8ms/step - loss: 0.6915 - accuracy: 0.5294 - val_loss: 0.6914 - val_accuracy: 0.5292\n",
            "Epoch 4/20\n",
            "11250/11250 [==============================] - 86s 8ms/step - loss: 0.6915 - accuracy: 0.5294 - val_loss: 0.6915 - val_accuracy: 0.5292\n",
            "Epoch 5/20\n",
            "11250/11250 [==============================] - 84s 7ms/step - loss: 0.6914 - accuracy: 0.5294 - val_loss: 0.6914 - val_accuracy: 0.5292\n",
            "Epoch 6/20\n",
            "11250/11250 [==============================] - 83s 7ms/step - loss: 0.6914 - accuracy: 0.5294 - val_loss: 0.6915 - val_accuracy: 0.5292\n"
          ]
        }
      ],
      "source": [
        "# fourth model\n",
        "model_4 = tf.keras.Sequential([\n",
        "    tf.keras.layers.Dense(64, activation='relu', kernel_regularizer=L2(l2_lambda)),\n",
        "    tf.keras.layers.Dense(128, activation='relu', kernel_regularizer=L2(l2_lambda)),\n",
        "    tf.keras.layers.Dense(128, activation='relu', kernel_regularizer=L2(l2_lambda)),\n",
        "    tf.keras.layers.Dense(128, activation='relu', kernel_regularizer=L2(l2_lambda)),\n",
        "    tf.keras.layers.Dense(128, activation='relu', kernel_regularizer=L2(l2_lambda)),\n",
        "    tf.keras.layers.Dense(128, activation='relu', kernel_regularizer=L2(l2_lambda)),\n",
        "    tf.keras.layers.Dense(128, activation='relu', kernel_regularizer=L2(l2_lambda)),\n",
        "    tf.keras.layers.Dense(128, activation='relu', kernel_regularizer=L2(l2_lambda)),\n",
        "    tf.keras.layers.Dense(128, activation='relu', kernel_regularizer=L2(l2_lambda)),\n",
        "    tf.keras.layers.Dense(128, activation='relu', kernel_regularizer=L2(l2_lambda)),\n",
        "    tf.keras.layers.Dense(128, activation='relu', kernel_regularizer=L2(l2_lambda)),\n",
        "    tf.keras.layers.Dense(128, activation='relu', kernel_regularizer=L2(l2_lambda)),\n",
        "    tf.keras.layers.Dense(128, activation='relu', kernel_regularizer=L2(l2_lambda)),\n",
        "    tf.keras.layers.Dense(32, activation='relu', kernel_regularizer=L2(l2_lambda)),\n",
        "    tf.keras.layers.Dense(1, activation='sigmoid', kernel_regularizer=L2(l2_lambda))\n",
        "])\n",
        "optimizer_diff_learn_rate = Adam(learning_rate=0.001)\n",
        "\n",
        "model_4.compile(optimizer=optimizer_diff_learn_rate, loss='binary_crossentropy', metrics=['accuracy'])\n",
        "\n",
        "\n",
        "#early stopping criteria\n",
        "early_stopping = EarlyStopping(monitor='val_loss', patience=5)\n",
        "\n",
        "output_model4 = model_4.fit(train_dataset, validation_data=val_dataset, epochs=20,callbacks=[early_stopping])"
      ]
    },
    {
      "cell_type": "code",
      "execution_count": null,
      "metadata": {
        "colab": {
          "base_uri": "https://localhost:8080/"
        },
        "id": "mzgqvqfgzURv",
        "outputId": "07195651-df18-4753-a284-b762072ee58c"
      },
      "outputs": [
        {
          "output_type": "stream",
          "name": "stdout",
          "text": [
            "Epoch 1/20\n",
            "11246/11250 [============================>.] - ETA: 0s - loss: 0.6146 - accuracy: 0.6941"
          ]
        }
      ],
      "source": [
        "model_5 = tf.keras.Sequential([\n",
        "    tf.keras.layers.Dense(256, activation='relu', kernel_regularizer=L2(l2_lambda)),\n",
        "    tf.keras.layers.Dense(256, activation='relu', kernel_regularizer=L2(l2_lambda)),\n",
        "    tf.keras.layers.Dense(256, activation='relu', kernel_regularizer=L2(l2_lambda)),\n",
        "    tf.keras.layers.Dense(256, activation='relu', kernel_regularizer=L2(l2_lambda)),\n",
        "    tf.keras.layers.Dense(256, activation='relu', kernel_regularizer=L2(l2_lambda)),\n",
        "    tf.keras.layers.Dense(256, activation='relu', kernel_regularizer=L2(l2_lambda)),\n",
        "    tf.keras.layers.Dense(128, activation='relu', kernel_regularizer=L2(l2_lambda)),\n",
        "    tf.keras.layers.Dense(64, activation='relu', kernel_regularizer=L2(l2_lambda)),\n",
        "    tf.keras.layers.Dense(32, activation='relu', kernel_regularizer=L2(l2_lambda)),\n",
        "    tf.keras.layers.Dense(1, activation='sigmoid', kernel_regularizer=L2(l2_lambda))\n",
        "])\n",
        "optimizer_diff_learn_rate = Adam(learning_rate=0.001)\n",
        "\n",
        "model_5.compile(optimizer=optimizer_diff_learn_rate, loss='binary_crossentropy', metrics=['accuracy'])\n",
        "\n",
        "#early stopping criteria\n",
        "early_stopping = EarlyStopping(monitor='val_loss', patience=5)\n",
        "\n",
        "output_model5 = model_5.fit(train_dataset, validation_data=val_dataset, epochs=20, callbacks=[early_stopping])\n"
      ]
    },
    {
      "cell_type": "code",
      "source": [
        "model_5 = tf.keras.Sequential([\n",
        "    tf.keras.layers.Dense(256, activation='relu'),\n",
        "    tf.keras.layers.Dense(64, activation='relu'),\n",
        "    tf.keras.layers.Dense(32, activation='relu'),\n",
        "    tf.keras.layers.Dense(128, activation='relu'),\n",
        "    tf.keras.layers.Dense(32, activation='relu'),\n",
        "    tf.keras.layers.Dense(64, activation='relu'),\n",
        "    tf.keras.layers.Dense(1, activation='sigmoid')\n",
        "])\n",
        "model_5.compile(optimizer='adam', loss='binary_crossentropy', metrics=['accuracy'])\n",
        "\n",
        "#early stopping criteria\n",
        "early_stopping = EarlyStopping(monitor='val_loss', patience=5)\n",
        "\n",
        "\n",
        "\n",
        "output_model5 = model_5.fit(train_dataset, \n",
        "                            validation_data=val_dataset, \n",
        "                            epochs=30, \n",
        "                            callbacks=[early_stopping],\n",
        "                            batch_size=64)"
      ],
      "metadata": {
        "colab": {
          "base_uri": "https://localhost:8080/"
        },
        "id": "K1pvjuoTKdx-",
        "outputId": "577e0932-b8ca-48f3-92cb-9ea3dc34057d"
      },
      "execution_count": 12,
      "outputs": [
        {
          "output_type": "stream",
          "name": "stdout",
          "text": [
            "Epoch 1/30\n",
            "11250/11250 [==============================] - 73s 6ms/step - loss: 0.5666 - accuracy: 0.7023 - val_loss: 0.5423 - val_accuracy: 0.7235\n",
            "Epoch 2/30\n",
            "11250/11250 [==============================] - 60s 5ms/step - loss: 0.5337 - accuracy: 0.7274 - val_loss: 0.5283 - val_accuracy: 0.7307\n",
            "Epoch 3/30\n",
            "11250/11250 [==============================] - 64s 6ms/step - loss: 0.5211 - accuracy: 0.7364 - val_loss: 0.5193 - val_accuracy: 0.7393\n",
            "Epoch 4/30\n",
            "11250/11250 [==============================] - 60s 5ms/step - loss: 0.5141 - accuracy: 0.7410 - val_loss: 0.5198 - val_accuracy: 0.7389\n",
            "Epoch 5/30\n",
            "11250/11250 [==============================] - 60s 5ms/step - loss: 0.5084 - accuracy: 0.7446 - val_loss: 0.5136 - val_accuracy: 0.7416\n",
            "Epoch 6/30\n",
            "11250/11250 [==============================] - 59s 5ms/step - loss: 0.5042 - accuracy: 0.7472 - val_loss: 0.5090 - val_accuracy: 0.7458\n",
            "Epoch 7/30\n",
            "11250/11250 [==============================] - 62s 5ms/step - loss: 0.5004 - accuracy: 0.7495 - val_loss: 0.5111 - val_accuracy: 0.7432\n",
            "Epoch 8/30\n",
            "11250/11250 [==============================] - 62s 5ms/step - loss: 0.4970 - accuracy: 0.7517 - val_loss: 0.5089 - val_accuracy: 0.7459\n",
            "Epoch 9/30\n",
            "11250/11250 [==============================] - 58s 5ms/step - loss: 0.4946 - accuracy: 0.7531 - val_loss: 0.5075 - val_accuracy: 0.7435\n",
            "Epoch 10/30\n",
            "11250/11250 [==============================] - 59s 5ms/step - loss: 0.4918 - accuracy: 0.7551 - val_loss: 0.5121 - val_accuracy: 0.7393\n",
            "Epoch 11/30\n",
            "11250/11250 [==============================] - 60s 5ms/step - loss: 0.4893 - accuracy: 0.7569 - val_loss: 0.5068 - val_accuracy: 0.7472\n",
            "Epoch 12/30\n",
            "11250/11250 [==============================] - 59s 5ms/step - loss: 0.4876 - accuracy: 0.7579 - val_loss: 0.5089 - val_accuracy: 0.7455\n",
            "Epoch 13/30\n",
            "11250/11250 [==============================] - 63s 6ms/step - loss: 0.4851 - accuracy: 0.7590 - val_loss: 0.5057 - val_accuracy: 0.7469\n",
            "Epoch 14/30\n",
            "11250/11250 [==============================] - 59s 5ms/step - loss: 0.4835 - accuracy: 0.7601 - val_loss: 0.5044 - val_accuracy: 0.7469\n",
            "Epoch 15/30\n",
            "11250/11250 [==============================] - 58s 5ms/step - loss: 0.4812 - accuracy: 0.7620 - val_loss: 0.5096 - val_accuracy: 0.7459\n",
            "Epoch 16/30\n",
            "11250/11250 [==============================] - 60s 5ms/step - loss: 0.4797 - accuracy: 0.7625 - val_loss: 0.5087 - val_accuracy: 0.7462\n",
            "Epoch 17/30\n",
            "11250/11250 [==============================] - 58s 5ms/step - loss: 0.4782 - accuracy: 0.7638 - val_loss: 0.5095 - val_accuracy: 0.7487\n",
            "Epoch 18/30\n",
            "11250/11250 [==============================] - 59s 5ms/step - loss: 0.4769 - accuracy: 0.7645 - val_loss: 0.5041 - val_accuracy: 0.7479\n",
            "Epoch 19/30\n",
            "11250/11250 [==============================] - 59s 5ms/step - loss: 0.4756 - accuracy: 0.7652 - val_loss: 0.5106 - val_accuracy: 0.7472\n",
            "Epoch 20/30\n",
            "11250/11250 [==============================] - 60s 5ms/step - loss: 0.4742 - accuracy: 0.7656 - val_loss: 0.5099 - val_accuracy: 0.7473\n",
            "Epoch 21/30\n",
            "11250/11250 [==============================] - 84s 7ms/step - loss: 0.4730 - accuracy: 0.7673 - val_loss: 0.5104 - val_accuracy: 0.7463\n",
            "Epoch 22/30\n",
            "11250/11250 [==============================] - 70s 6ms/step - loss: 0.4714 - accuracy: 0.7679 - val_loss: 0.5073 - val_accuracy: 0.7459\n",
            "Epoch 23/30\n",
            "11250/11250 [==============================] - 61s 5ms/step - loss: 0.4704 - accuracy: 0.7687 - val_loss: 0.5085 - val_accuracy: 0.7473\n"
          ]
        }
      ]
    },
    {
      "cell_type": "code",
      "execution_count": null,
      "metadata": {
        "id": "ZqYO8OPdw-FS"
      },
      "outputs": [],
      "source": []
    },
    {
      "cell_type": "code",
      "execution_count": null,
      "metadata": {
        "id": "YwDBbTd9YBg5",
        "colab": {
          "base_uri": "https://localhost:8080/",
          "height": 188
        },
        "outputId": "11a03a27-2ef6-4877-ef2a-1e171c4ebc3c"
      },
      "outputs": [
        {
          "output_type": "error",
          "ename": "NameError",
          "evalue": "ignored",
          "traceback": [
            "\u001b[0;31m---------------------------------------------------------------------------\u001b[0m",
            "\u001b[0;31mNameError\u001b[0m                                 Traceback (most recent call last)",
            "\u001b[0;32m<ipython-input-9-9b5d5a800f3f>\u001b[0m in \u001b[0;36m<cell line: 1>\u001b[0;34m()\u001b[0m\n\u001b[0;32m----> 1\u001b[0;31m \u001b[0mlist_models\u001b[0m \u001b[0;34m=\u001b[0m \u001b[0;34m[\u001b[0m\u001b[0mmodel_1\u001b[0m\u001b[0;34m,\u001b[0m\u001b[0mmodel_3\u001b[0m\u001b[0;34m]\u001b[0m\u001b[0;34m\u001b[0m\u001b[0;34m\u001b[0m\u001b[0m\n\u001b[0m\u001b[1;32m      2\u001b[0m \u001b[0mlist_output_models\u001b[0m \u001b[0;34m=\u001b[0m \u001b[0;34m[\u001b[0m\u001b[0moutput_model1\u001b[0m\u001b[0;34m,\u001b[0m \u001b[0moutput_model3\u001b[0m\u001b[0;34m]\u001b[0m\u001b[0;34m\u001b[0m\u001b[0;34m\u001b[0m\u001b[0m\n",
            "\u001b[0;31mNameError\u001b[0m: name 'model_1' is not defined"
          ]
        }
      ],
      "source": [
        "list_models = [model_1,model_3]\n",
        "list_output_models = [output_model1, output_model3]"
      ]
    },
    {
      "cell_type": "code",
      "execution_count": null,
      "metadata": {
        "id": "byqRlfzy4WDX",
        "colab": {
          "base_uri": "https://localhost:8080/",
          "height": 356
        },
        "outputId": "25302357-ad1b-4e3b-dffe-ed1f6e876d50"
      },
      "outputs": [
        {
          "output_type": "error",
          "ename": "KeyboardInterrupt",
          "evalue": "ignored",
          "traceback": [
            "\u001b[0;31m---------------------------------------------------------------------------\u001b[0m",
            "\u001b[0;31mKeyboardInterrupt\u001b[0m                         Traceback (most recent call last)",
            "\u001b[0;32m<ipython-input-10-80dc09f7e670>\u001b[0m in \u001b[0;36m<cell line: 11>\u001b[0;34m()\u001b[0m\n\u001b[1;32m      9\u001b[0m \u001b[0;34m\u001b[0m\u001b[0m\n\u001b[1;32m     10\u001b[0m \u001b[0;31m# Convert the train_dataset to NumPy arrays\u001b[0m\u001b[0;34m\u001b[0m\u001b[0;34m\u001b[0m\u001b[0m\n\u001b[0;32m---> 11\u001b[0;31m \u001b[0mX_train\u001b[0m\u001b[0;34m,\u001b[0m \u001b[0my_train\u001b[0m \u001b[0;34m=\u001b[0m \u001b[0mdataset_to_numpy\u001b[0m\u001b[0;34m(\u001b[0m\u001b[0mtrain_dataset\u001b[0m\u001b[0;34m)\u001b[0m\u001b[0;34m\u001b[0m\u001b[0;34m\u001b[0m\u001b[0m\n\u001b[0m",
            "\u001b[0;32m<ipython-input-10-80dc09f7e670>\u001b[0m in \u001b[0;36mdataset_to_numpy\u001b[0;34m(dataset)\u001b[0m\n\u001b[1;32m      2\u001b[0m     \u001b[0mfeatures\u001b[0m \u001b[0;34m=\u001b[0m \u001b[0;34m[\u001b[0m\u001b[0;34m]\u001b[0m\u001b[0;34m\u001b[0m\u001b[0;34m\u001b[0m\u001b[0m\n\u001b[1;32m      3\u001b[0m     \u001b[0mlabels\u001b[0m \u001b[0;34m=\u001b[0m \u001b[0;34m[\u001b[0m\u001b[0;34m]\u001b[0m\u001b[0;34m\u001b[0m\u001b[0;34m\u001b[0m\u001b[0m\n\u001b[0;32m----> 4\u001b[0;31m     \u001b[0;32mfor\u001b[0m \u001b[0mx\u001b[0m\u001b[0;34m,\u001b[0m \u001b[0my\u001b[0m \u001b[0;32min\u001b[0m \u001b[0mdataset\u001b[0m\u001b[0;34m.\u001b[0m\u001b[0munbatch\u001b[0m\u001b[0;34m(\u001b[0m\u001b[0;34m)\u001b[0m\u001b[0;34m.\u001b[0m\u001b[0mas_numpy_iterator\u001b[0m\u001b[0;34m(\u001b[0m\u001b[0;34m)\u001b[0m\u001b[0;34m:\u001b[0m\u001b[0;34m\u001b[0m\u001b[0;34m\u001b[0m\u001b[0m\n\u001b[0m\u001b[1;32m      5\u001b[0m         \u001b[0mfeatures\u001b[0m\u001b[0;34m.\u001b[0m\u001b[0mappend\u001b[0m\u001b[0;34m(\u001b[0m\u001b[0mx\u001b[0m\u001b[0;34m)\u001b[0m\u001b[0;34m\u001b[0m\u001b[0;34m\u001b[0m\u001b[0m\n\u001b[1;32m      6\u001b[0m         \u001b[0mlabels\u001b[0m\u001b[0;34m.\u001b[0m\u001b[0mappend\u001b[0m\u001b[0;34m(\u001b[0m\u001b[0my\u001b[0m\u001b[0;34m)\u001b[0m\u001b[0;34m\u001b[0m\u001b[0;34m\u001b[0m\u001b[0m\n",
            "\u001b[0;32m/usr/local/lib/python3.9/dist-packages/tensorflow/python/data/ops/dataset_ops.py\u001b[0m in \u001b[0;36m__next__\u001b[0;34m(self)\u001b[0m\n\u001b[1;32m   4660\u001b[0m       \u001b[0;32mreturn\u001b[0m \u001b[0mnumpy\u001b[0m\u001b[0;34m\u001b[0m\u001b[0;34m\u001b[0m\u001b[0m\n\u001b[1;32m   4661\u001b[0m \u001b[0;34m\u001b[0m\u001b[0m\n\u001b[0;32m-> 4662\u001b[0;31m     \u001b[0;32mreturn\u001b[0m \u001b[0mnest\u001b[0m\u001b[0;34m.\u001b[0m\u001b[0mmap_structure\u001b[0m\u001b[0;34m(\u001b[0m\u001b[0mto_numpy\u001b[0m\u001b[0;34m,\u001b[0m \u001b[0mnext\u001b[0m\u001b[0;34m(\u001b[0m\u001b[0mself\u001b[0m\u001b[0;34m.\u001b[0m\u001b[0m_iterator\u001b[0m\u001b[0;34m)\u001b[0m\u001b[0;34m)\u001b[0m\u001b[0;34m\u001b[0m\u001b[0;34m\u001b[0m\u001b[0m\n\u001b[0m\u001b[1;32m   4663\u001b[0m \u001b[0;34m\u001b[0m\u001b[0m\n\u001b[1;32m   4664\u001b[0m   \u001b[0;32mdef\u001b[0m \u001b[0mnext\u001b[0m\u001b[0;34m(\u001b[0m\u001b[0mself\u001b[0m\u001b[0;34m)\u001b[0m\u001b[0;34m:\u001b[0m\u001b[0;34m\u001b[0m\u001b[0;34m\u001b[0m\u001b[0m\n",
            "\u001b[0;32m/usr/local/lib/python3.9/dist-packages/tensorflow/python/data/ops/iterator_ops.py\u001b[0m in \u001b[0;36m__next__\u001b[0;34m(self)\u001b[0m\n\u001b[1;32m    795\u001b[0m   \u001b[0;32mdef\u001b[0m \u001b[0m__next__\u001b[0m\u001b[0;34m(\u001b[0m\u001b[0mself\u001b[0m\u001b[0;34m)\u001b[0m\u001b[0;34m:\u001b[0m\u001b[0;34m\u001b[0m\u001b[0;34m\u001b[0m\u001b[0m\n\u001b[1;32m    796\u001b[0m     \u001b[0;32mtry\u001b[0m\u001b[0;34m:\u001b[0m\u001b[0;34m\u001b[0m\u001b[0;34m\u001b[0m\u001b[0m\n\u001b[0;32m--> 797\u001b[0;31m       \u001b[0;32mreturn\u001b[0m \u001b[0mself\u001b[0m\u001b[0;34m.\u001b[0m\u001b[0m_next_internal\u001b[0m\u001b[0;34m(\u001b[0m\u001b[0;34m)\u001b[0m\u001b[0;34m\u001b[0m\u001b[0;34m\u001b[0m\u001b[0m\n\u001b[0m\u001b[1;32m    798\u001b[0m     \u001b[0;32mexcept\u001b[0m \u001b[0merrors\u001b[0m\u001b[0;34m.\u001b[0m\u001b[0mOutOfRangeError\u001b[0m\u001b[0;34m:\u001b[0m\u001b[0;34m\u001b[0m\u001b[0;34m\u001b[0m\u001b[0m\n\u001b[1;32m    799\u001b[0m       \u001b[0;32mraise\u001b[0m \u001b[0mStopIteration\u001b[0m\u001b[0;34m\u001b[0m\u001b[0;34m\u001b[0m\u001b[0m\n",
            "\u001b[0;32m/usr/local/lib/python3.9/dist-packages/tensorflow/python/data/ops/iterator_ops.py\u001b[0m in \u001b[0;36m_next_internal\u001b[0;34m(self)\u001b[0m\n\u001b[1;32m    778\u001b[0m     \u001b[0;31m# to communicate that there is no more data to iterate over.\u001b[0m\u001b[0;34m\u001b[0m\u001b[0;34m\u001b[0m\u001b[0m\n\u001b[1;32m    779\u001b[0m     \u001b[0;32mwith\u001b[0m \u001b[0mcontext\u001b[0m\u001b[0;34m.\u001b[0m\u001b[0mexecution_mode\u001b[0m\u001b[0;34m(\u001b[0m\u001b[0mcontext\u001b[0m\u001b[0;34m.\u001b[0m\u001b[0mSYNC\u001b[0m\u001b[0;34m)\u001b[0m\u001b[0;34m:\u001b[0m\u001b[0;34m\u001b[0m\u001b[0;34m\u001b[0m\u001b[0m\n\u001b[0;32m--> 780\u001b[0;31m       ret = gen_dataset_ops.iterator_get_next(\n\u001b[0m\u001b[1;32m    781\u001b[0m           \u001b[0mself\u001b[0m\u001b[0;34m.\u001b[0m\u001b[0m_iterator_resource\u001b[0m\u001b[0;34m,\u001b[0m\u001b[0;34m\u001b[0m\u001b[0;34m\u001b[0m\u001b[0m\n\u001b[1;32m    782\u001b[0m           \u001b[0moutput_types\u001b[0m\u001b[0;34m=\u001b[0m\u001b[0mself\u001b[0m\u001b[0;34m.\u001b[0m\u001b[0m_flat_output_types\u001b[0m\u001b[0;34m,\u001b[0m\u001b[0;34m\u001b[0m\u001b[0;34m\u001b[0m\u001b[0m\n",
            "\u001b[0;32m/usr/local/lib/python3.9/dist-packages/tensorflow/python/ops/gen_dataset_ops.py\u001b[0m in \u001b[0;36miterator_get_next\u001b[0;34m(iterator, output_types, output_shapes, name)\u001b[0m\n\u001b[1;32m   3009\u001b[0m   \u001b[0;32mif\u001b[0m \u001b[0mtld\u001b[0m\u001b[0;34m.\u001b[0m\u001b[0mis_eager\u001b[0m\u001b[0;34m:\u001b[0m\u001b[0;34m\u001b[0m\u001b[0;34m\u001b[0m\u001b[0m\n\u001b[1;32m   3010\u001b[0m     \u001b[0;32mtry\u001b[0m\u001b[0;34m:\u001b[0m\u001b[0;34m\u001b[0m\u001b[0;34m\u001b[0m\u001b[0m\n\u001b[0;32m-> 3011\u001b[0;31m       _result = pywrap_tfe.TFE_Py_FastPathExecute(\n\u001b[0m\u001b[1;32m   3012\u001b[0m         \u001b[0m_ctx\u001b[0m\u001b[0;34m,\u001b[0m \u001b[0;34m\"IteratorGetNext\"\u001b[0m\u001b[0;34m,\u001b[0m \u001b[0mname\u001b[0m\u001b[0;34m,\u001b[0m \u001b[0miterator\u001b[0m\u001b[0;34m,\u001b[0m \u001b[0;34m\"output_types\"\u001b[0m\u001b[0;34m,\u001b[0m \u001b[0moutput_types\u001b[0m\u001b[0;34m,\u001b[0m\u001b[0;34m\u001b[0m\u001b[0;34m\u001b[0m\u001b[0m\n\u001b[1;32m   3013\u001b[0m         \"output_shapes\", output_shapes)\n",
            "\u001b[0;31mKeyboardInterrupt\u001b[0m: "
          ]
        }
      ],
      "source": [
        "def dataset_to_numpy(dataset):\n",
        "    features = []\n",
        "    labels = []\n",
        "    for x, y in dataset.unbatch().as_numpy_iterator():\n",
        "        features.append(x)\n",
        "        labels.append(y)\n",
        "    return np.array(features), np.array(labels)\n",
        "\n",
        "\n",
        "# Convert the train_dataset to NumPy arrays\n",
        "X_train, y_train = dataset_to_numpy(train_dataset)"
      ]
    },
    {
      "cell_type": "code",
      "execution_count": null,
      "metadata": {
        "id": "-2Ee6AzfmhmV"
      },
      "outputs": [],
      "source": [
        "from tensorflow.keras.wrappers.scikit_learn import KerasClassifier\n",
        "from sklearn.model_selection import GridSearchCV"
      ]
    },
    {
      "cell_type": "code",
      "execution_count": null,
      "metadata": {
        "colab": {
          "base_uri": "https://localhost:8080/"
        },
        "id": "2lVaFrNpQu5w",
        "outputId": "6cae0c0a-13e3-447e-e79a-240f3e340646"
      },
      "outputs": [
        {
          "name": "stderr",
          "output_type": "stream",
          "text": [
            "<ipython-input-17-343a6cde8e8f>:14: DeprecationWarning: KerasClassifier is deprecated, use Sci-Keras (https://github.com/adriangb/scikeras) instead. See https://www.adriangb.com/scikeras/stable/migration.html for help migrating.\n",
            "  clf = KerasClassifier(build_fn=create_model, epochs=10, verbose=0)\n"
          ]
        },
        {
          "name": "stdout",
          "output_type": "stream",
          "text": [
            "Best: 0.640589 using {'neurons_layer1': 64, 'neurons_layer2': 64}\n"
          ]
        }
      ],
      "source": [
        "# Define your neural network model in a separate function\n",
        "def create_model(optimizer='adam', neurons_layer1=64, neurons_layer2=32):\n",
        "    model = Sequential()\n",
        "    model.add(Dense(neurons_layer1, input_shape=(28,))) # Adjust input shape based on number of features\n",
        "    model.add(Dense(neurons_layer2))\n",
        "    model.add(Dense(1, activation='sigmoid'))\n",
        "    model.compile(loss='binary_crossentropy', optimizer=optimizer, metrics=['accuracy'])\n",
        "    return model\n",
        "\n",
        "\n",
        "\n",
        "\n",
        "# Instantiate the custom classifier\n",
        "clf = KerasClassifier(build_fn=create_model, epochs=10, verbose=0)\n",
        "\n",
        "# Define the hyperparameter grid for GridSearchCV\n",
        "param_grid = {\n",
        "    'neurons_layer1': [64, 128, 256],\n",
        "    'neurons_layer2': [32, 64, 128],\n",
        "}\n",
        "\n",
        "# Perform GridSearchCV\n",
        "grid = GridSearchCV(estimator=clf, param_grid=param_grid, cv=3)\n",
        "grid_result = grid.fit(X_train, y_train) # Pass the NumPy arrays\n",
        "\n",
        "# Print the results\n",
        "print(\"Best: %f using %s\" % (grid_result.best_score_, grid_result.best_params_))\n"
      ]
    },
    {
      "cell_type": "code",
      "execution_count": null,
      "metadata": {
        "colab": {
          "base_uri": "https://localhost:8080/"
        },
        "id": "4EPQtWzP2y_c",
        "outputId": "50d3397f-a0b2-4206-c69b-9c17fe2294a7"
      },
      "outputs": [
        {
          "name": "stderr",
          "output_type": "stream",
          "text": [
            "<ipython-input-13-be0ebc8e974d>:27: DeprecationWarning: KerasClassifier is deprecated, use Sci-Keras (https://github.com/adriangb/scikeras) instead. See https://www.adriangb.com/scikeras/stable/migration.html for help migrating.\n",
            "  clf = KerasClassifier(build_fn=create_model, epochs=10, verbose=0)\n"
          ]
        }
      ],
      "source": [
        "\n",
        "\n",
        "def create_model(neurons_layer1=128, learning_rate=0.001):\n",
        "    model = tf.keras.Sequential([\n",
        "        tf.keras.layers.Dense(neurons_layer1, activation='relu', input_shape=(28,)),\n",
        "        tf.keras.layers.Dense(32, activation='relu'),\n",
        "        tf.keras.layers.Dense(32, activation='relu'),\n",
        "        tf.keras.layers.Dense(32, activation='relu'),\n",
        "        tf.keras.layers.Dense(32, activation='relu'),\n",
        "        tf.keras.layers.Dense(32, activation='relu'),\n",
        "        tf.keras.layers.Dense(32, activation='relu'),\n",
        "        tf.keras.layers.Dense(32, activation='relu'),\n",
        "        tf.keras.layers.Dense(1, activation='sigmoid')\n",
        "    ])\n",
        "    optimizer = tf.keras.optimizers.Adam(learning_rate=learning_rate)\n",
        "    model.compile(optimizer=optimizer, loss='binary_crossentropy', metrics=['accuracy'])\n",
        "    return model\n",
        "\n",
        "\n",
        "\n",
        "\n",
        "\n",
        "\n",
        "\n",
        "# Instantiate the custom classifier\n",
        "clf = KerasClassifier(build_fn=create_model, epochs=10, verbose=0)\n",
        "\n",
        "# Define the hyperparameter grid for GridSearchCV\n",
        "param_grid = {\n",
        "\n",
        "    'batch_size': [32, 64, 128],\n",
        "\n",
        "\n",
        "}\n",
        "grid = GridSearchCV(estimator=clf, param_grid=param_grid, cv=3)\n",
        "grid_result = grid.fit(X_train, y_train) \n"
      ]
    },
    {
      "cell_type": "code",
      "execution_count": null,
      "metadata": {
        "colab": {
          "base_uri": "https://localhost:8080/"
        },
        "id": "gg-c6JAfPYe-",
        "outputId": "be06645b-0e78-4e78-caa7-acba2fcde19e"
      },
      "outputs": [
        {
          "name": "stdout",
          "output_type": "stream",
          "text": [
            "Best parameters found:  {'batch_size': 32, 'epochs': 10, 'learning_rate': 0.001}\n",
            "Best accuracy score found:  0.7382255991299947\n"
          ]
        }
      ],
      "source": [
        "print(\"Best parameters found: \", grid_result.best_params_)\n",
        "print(\"Best accuracy score found: \", grid_result.best_score_)"
      ]
    },
    {
      "cell_type": "code",
      "execution_count": null,
      "metadata": {
        "colab": {
          "base_uri": "https://localhost:8080/",
          "height": 1000
        },
        "id": "HbO-n0mgnXZQ",
        "outputId": "5d4eadad-67d7-44dd-d5c8-9c41a6801676"
      },
      "outputs": [
        {
          "output_type": "stream",
          "name": "stdout",
          "text": [
            "Please provide version number and change doneL2-Regularization\n",
            "\n",
            "Model Performance Metrics for L2 Regularization:\n",
            "\n"
          ]
        },
        {
          "output_type": "display_data",
          "data": {
            "text/plain": [
              "<Figure size 1000x500 with 1 Axes>"
            ],
            "image/png": "[encoded data removed]"
          },
          "metadata": {}
        },
        {
          "output_type": "display_data",
          "data": {
            "text/plain": [
              "<Figure size 1000x500 with 1 Axes>"
            ],
            "image/png": "[encoded data removed]"
          },
          "metadata": {}
        },
        {
          "output_type": "execute_result",
          "data": {
            "text/plain": [
              "     Model Optimizer        Loss Function  Learning Rate  Num Hidden Layers  \\\n",
              "0  Model 1      Adam  binary_crossentropy          0.001                  3   \n",
              "1  Model 2      Adam  binary_crossentropy          0.001                  3   \n",
              "\n",
              "     Num Nodes per Layer  Train Loss  Val Loss  Train Acc   Val Acc  \n",
              "0  [64, 128, 128, 32, 1]    0.569633  0.571053   0.723737  0.722081  \n",
              "1  [256, 128, 64, 32, 1]    0.567716  0.566570   0.725817  0.728698  "
            ],
            "text/html": [
              "\n",
              "  <div id=\"df-2be450b2-a71e-4562-82fd-cebf569ad81f\">\n",
              "    <div class=\"colab-df-container\">\n",
              "      <div>\n",
              "<style scoped>\n",
              "    .dataframe tbody tr th:only-of-type {\n",
              "        vertical-align: middle;\n",
              "    }\n",
              "\n",
              "    .dataframe tbody tr th {\n",
              "        vertical-align: top;\n",
              "    }\n",
              "\n",
              "    .dataframe thead th {\n",
              "        text-align: right;\n",
              "    }\n",
              "</style>\n",
              "<table border=\"1\" class=\"dataframe\">\n",
              "  <thead>\n",
              "    <tr style=\"text-align: right;\">\n",
              "      <th></th>\n",
              "      <th>Model</th>\n",
              "      <th>Optimizer</th>\n",
              "      <th>Loss Function</th>\n",
              "      <th>Learning Rate</th>\n",
              "      <th>Num Hidden Layers</th>\n",
              "      <th>Num Nodes per Layer</th>\n",
              "      <th>Train Loss</th>\n",
              "      <th>Val Loss</th>\n",
              "      <th>Train Acc</th>\n",
              "      <th>Val Acc</th>\n",
              "    </tr>\n",
              "  </thead>\n",
              "  <tbody>\n",
              "    <tr>\n",
              "      <th>0</th>\n",
              "      <td>Model 1</td>\n",
              "      <td>Adam</td>\n",
              "      <td>binary_crossentropy</td>\n",
              "      <td>0.001</td>\n",
              "      <td>3</td>\n",
              "      <td>[64, 128, 128, 32, 1]</td>\n",
              "      <td>0.569633</td>\n",
              "      <td>0.571053</td>\n",
              "      <td>0.723737</td>\n",
              "      <td>0.722081</td>\n",
              "    </tr>\n",
              "    <tr>\n",
              "      <th>1</th>\n",
              "      <td>Model 2</td>\n",
              "      <td>Adam</td>\n",
              "      <td>binary_crossentropy</td>\n",
              "      <td>0.001</td>\n",
              "      <td>3</td>\n",
              "      <td>[256, 128, 64, 32, 1]</td>\n",
              "      <td>0.567716</td>\n",
              "      <td>0.566570</td>\n",
              "      <td>0.725817</td>\n",
              "      <td>0.728698</td>\n",
              "    </tr>\n",
              "  </tbody>\n",
              "</table>\n",
              "</div>\n",
              "      <button class=\"colab-df-convert\" onclick=\"convertToInteractive('df-2be450b2-a71e-4562-82fd-cebf569ad81f')\"\n",
              "              title=\"Convert this dataframe to an interactive table.\"\n",
              "              style=\"display:none;\">\n",
              "        \n",
              "  <svg xmlns=\"http://www.w3.org/2000/svg\" height=\"24px\"viewBox=\"0 0 24 24\"\n",
              "       width=\"24px\">\n",
              "    <path d=\"M0 0h24v24H0V0z\" fill=\"none\"/>\n",
              "    <path d=\"M18.56 5.44l.94 2.06.94-2.06 2.06-.94-2.06-.94-.94-2.06-.94 2.06-2.06.94zm-11 1L8.5 8.5l.94-2.06 2.06-.94-2.06-.94L8.5 2.5l-.94 2.06-2.06.94zm10 10l.94 2.06.94-2.06 2.06-.94-2.06-.94-.94-2.06-.94 2.06-2.06.94z\"/><path d=\"M17.41 7.96l-1.37-1.37c-.4-.4-.92-.59-1.43-.59-.52 0-1.04.2-1.43.59L10.3 9.45l-7.72 7.72c-.78.78-.78 2.05 0 2.83L4 21.41c.39.39.9.59 1.41.59.51 0 1.02-.2 1.41-.59l7.78-7.78 2.81-2.81c.8-.78.8-2.07 0-2.86zM5.41 20L4 18.59l7.72-7.72 1.47 1.35L5.41 20z\"/>\n",
              "  </svg>\n",
              "      </button>\n",
              "      \n",
              "  <style>\n",
              "    .colab-df-container {\n",
              "      display:flex;\n",
              "      flex-wrap:wrap;\n",
              "      gap: 12px;\n",
              "    }\n",
              "\n",
              "    .colab-df-convert {\n",
              "      background-color: #E8F0FE;\n",
              "      border: none;\n",
              "      border-radius: 50%;\n",
              "      cursor: pointer;\n",
              "      display: none;\n",
              "      fill: #1967D2;\n",
              "      height: 32px;\n",
              "      padding: 0 0 0 0;\n",
              "      width: 32px;\n",
              "    }\n",
              "\n",
              "    .colab-df-convert:hover {\n",
              "      background-color: #E2EBFA;\n",
              "      box-shadow: 0px 1px 2px rgba(60, 64, 67, 0.3), 0px 1px 3px 1px rgba(60, 64, 67, 0.15);\n",
              "      fill: #174EA6;\n",
              "    }\n",
              "\n",
              "    [theme=dark] .colab-df-convert {\n",
              "      background-color: #3B4455;\n",
              "      fill: #D2E3FC;\n",
              "    }\n",
              "\n",
              "    [theme=dark] .colab-df-convert:hover {\n",
              "      background-color: #434B5C;\n",
              "      box-shadow: 0px 1px 3px 1px rgba(0, 0, 0, 0.15);\n",
              "      filter: drop-shadow(0px 1px 2px rgba(0, 0, 0, 0.3));\n",
              "      fill: #FFFFFF;\n",
              "    }\n",
              "  </style>\n",
              "\n",
              "      <script>\n",
              "        const buttonEl =\n",
              "          document.querySelector('#df-2be450b2-a71e-4562-82fd-cebf569ad81f button.colab-df-convert');\n",
              "        buttonEl.style.display =\n",
              "          google.colab.kernel.accessAllowed ? 'block' : 'none';\n",
              "\n",
              "        async function convertToInteractive(key) {\n",
              "          const element = document.querySelector('#df-2be450b2-a71e-4562-82fd-cebf569ad81f');\n",
              "          const dataTable =\n",
              "            await google.colab.kernel.invokeFunction('convertToInteractive',\n",
              "                                                     [key], {});\n",
              "          if (!dataTable) return;\n",
              "\n",
              "          const docLinkHtml = 'Like what you see? Visit the ' +\n",
              "            '<a target=\"_blank\" href=https://colab.research.google.com/notebooks/data_table.ipynb>data table notebook</a>'\n",
              "            + ' to learn more about interactive tables.';\n",
              "          element.innerHTML = '';\n",
              "          dataTable['output_type'] = 'display_data';\n",
              "          await google.colab.output.renderOutput(dataTable, element);\n",
              "          const docLink = document.createElement('div');\n",
              "          docLink.innerHTML = docLinkHtml;\n",
              "          element.appendChild(docLink);\n",
              "        }\n",
              "      </script>\n",
              "    </div>\n",
              "  </div>\n",
              "  "
            ]
          },
          "metadata": {},
          "execution_count": 14
        }
      ],
      "source": [
        "compare_models(list_models, list_output_models, \"L2 Regularization\")"
      ]
    },
    {
      "cell_type": "code",
      "execution_count": null,
      "metadata": {
        "colab": {
          "base_uri": "https://localhost:8080/"
        },
        "id": "6vnam_fNDdej",
        "outputId": "20101aec-e548-4c8b-9470-64e9838c5011"
      },
      "outputs": [
        {
          "name": "stdout",
          "output_type": "stream",
          "text": [
            "3750/3750 [==============================] - 8s 2ms/step - loss: 0.7042 - accuracy: 0.5059\n",
            "Test loss: 0.7041730880737305\n",
            "Test accuracy: 0.5059000253677368\n"
          ]
        }
      ],
      "source": [
        "# testing for accuracy \n",
        "loss, accuracy = model_1.evaluate(test_dataset)\n",
        "\n",
        "print(\"Test loss:\", loss)\n",
        "print(\"Test accuracy:\", accuracy)\n"
      ]
    },
    {
      "cell_type": "markdown",
      "source": [
        "Auto Encoder"
      ],
      "metadata": {
        "id": "wfd4sLTi3yS6"
      }
    },
    {
      "cell_type": "code",
      "source": [
        "from tensorflow.keras.layers import Dense, Input\n",
        "from tensorflow.keras.models import Model\n",
        "\n",
        "input_dim = 28  # Input dimension for CSV data\n",
        "\n",
        "# Encoder\n",
        "input_data = Input(shape=(input_dim,))\n",
        "encodes_data = Dense(14, activation='relu')(input_data)\n",
        "encodes_data = Dense(7, activation='relu')(encodes_data)\n",
        "\n",
        "# Decoder\n",
        "decode_data = Dense(14, activation='relu')(encodes_data)\n",
        "decode_data = Dense(input_dim, activation='sigmoid')(encodes_data)\n",
        "\n",
        "# Autoencoder\n",
        "autoencoder = Model(input_data, decode_data)\n",
        "\n",
        "# Compile the model\n",
        "autoencoder.compile(optimizer='adam', loss='mse')\n",
        "\n",
        "# Train the autoencoder\n",
        "autoencoder.fit(train_dataset, epochs=10, validation_data=val_dataset)\n"
      ],
      "metadata": {
        "colab": {
          "base_uri": "https://localhost:8080/"
        },
        "id": "7c7e6Da73xiM",
        "outputId": "38061f23-269d-4d9a-ba00-b4e7883a7d86"
      },
      "execution_count": null,
      "outputs": [
        {
          "output_type": "stream",
          "name": "stdout",
          "text": [
            "Epoch 1/10\n",
            "11250/11250 [==============================] - 45s 4ms/step - loss: 0.2067 - val_loss: 0.1944\n",
            "Epoch 2/10\n",
            "11250/11250 [==============================] - 41s 4ms/step - loss: 0.1918 - val_loss: 0.1893\n",
            "Epoch 3/10\n",
            "11250/11250 [==============================] - 41s 4ms/step - loss: 0.1886 - val_loss: 0.1880\n",
            "Epoch 4/10\n",
            "11250/11250 [==============================] - 42s 4ms/step - loss: 0.1868 - val_loss: 0.1857\n",
            "Epoch 5/10\n",
            "11250/11250 [==============================] - 47s 4ms/step - loss: 0.1856 - val_loss: 0.1848\n",
            "Epoch 6/10\n",
            "11250/11250 [==============================] - 58s 5ms/step - loss: 0.1847 - val_loss: 0.1847\n",
            "Epoch 7/10\n",
            "11250/11250 [==============================] - 41s 4ms/step - loss: 0.1840 - val_loss: 0.1838\n",
            "Epoch 8/10\n",
            "11250/11250 [==============================] - 42s 4ms/step - loss: 0.1834 - val_loss: 0.1829\n",
            "Epoch 9/10\n",
            "11250/11250 [==============================] - 48s 4ms/step - loss: 0.1829 - val_loss: 0.1824\n",
            "Epoch 10/10\n",
            "11250/11250 [==============================] - 45s 4ms/step - loss: 0.1823 - val_loss: 0.1826\n"
          ]
        },
        {
          "output_type": "execute_result",
          "data": {
            "text/plain": [
              "<keras.callbacks.History at 0x7fc3482f2640>"
            ]
          },
          "metadata": {},
          "execution_count": 9
        }
      ]
    },
    {
      "cell_type": "code",
      "source": [
        "encoder = Model(input_data, encodes_data)"
      ],
      "metadata": {
        "id": "tTks1gCi7C1D"
      },
      "execution_count": null,
      "outputs": []
    },
    {
      "cell_type": "code",
      "source": [
        "import numpy as np\n",
        "\n",
        "def extract_features_from_autoencoder(dataset, encoder_model):\n",
        "    features = []\n",
        "    labels = []\n",
        "\n",
        "    for batch in dataset:\n",
        "        x, y = batch\n",
        "        x_encoded = encoder_model.predict(x, verbose=0)  # Set verbose to 0 to suppress output\n",
        "        features.append(x_encoded)\n",
        "        labels.append(y.numpy())\n",
        "\n",
        "    features = np.vstack(features)\n",
        "    labels = np.hstack(labels)\n",
        "    return features, labels\n",
        "\n",
        "train_features, train_labels = extract_features_from_autoencoder(train_dataset, encoder)\n",
        "val_features, val_labels = extract_features_from_autoencoder(val_dataset, encoder)\n"
      ],
      "metadata": {
        "id": "QhiRO_Cv7FEX"
      },
      "execution_count": null,
      "outputs": []
    },
    {
      "cell_type": "code",
      "source": [
        "model_6 = tf.keras.Sequential([\n",
        "    tf.keras.layers.Dense(64, activation='relu'),\n",
        "    tf.keras.layers.Dense(128, activation='relu'),\n",
        "    tf.keras.layers.Dense(128, activation='relu'),\n",
        "    tf.keras.layers.Dense(32, activation='relu'),\n",
        "    tf.keras.layers.Dense(1, activation='sigmoid')\n",
        "])\n",
        "\n",
        "optimizer_diff_learn_rate = Adam(learning_rate=0.001)\n",
        "\n",
        "model_6.compile(optimizer=optimizer_diff_learn_rate, loss='binary_crossentropy', metrics=['accuracy'])\n",
        "\n",
        "# Early stopping criteria\n",
        "early_stopping = EarlyStopping(monitor='val_loss', patience=7)\n",
        "\n",
        "output_model6 = model_6.fit(train_features, train_labels, validation_data=(val_features, val_labels), epochs=10, batch_size=32, callbacks=[early_stopping])\n"
      ],
      "metadata": {
        "id": "esuwsgWT3-U8"
      },
      "execution_count": null,
      "outputs": []
    },
    {
      "cell_type": "code",
      "source": [
        "# testing for accuracy \n",
        "loss, accuracy = model_5.evaluate(test_dataset)\n",
        "\n",
        "print(\"Test loss:\", loss)\n",
        "print(\"Test accuracy:\", accuracy)\n"
      ],
      "metadata": {
        "id": "Uiziqwyy3-8l",
        "colab": {
          "base_uri": "https://localhost:8080/"
        },
        "outputId": "66d9dd2f-e8f9-4d69-82e5-5539b0f859d4"
      },
      "execution_count": 13,
      "outputs": [
        {
          "output_type": "stream",
          "name": "stdout",
          "text": [
            "3750/3750 [==============================] - 13s 3ms/step - loss: 0.5109 - accuracy: 0.7460\n",
            "Test loss: 0.5109469890594482\n",
            "Test accuracy: 0.7460166811943054\n"
          ]
        }
      ]
    },
    {
      "cell_type": "code",
      "source": [],
      "metadata": {
        "id": "nIrmK_RVmoQS"
      },
      "execution_count": null,
      "outputs": []
    }
  ],
  "metadata": {
    "accelerator": "GPU",
    "colab": {
      "provenance": []
    },
    "gpuClass": "standard",
    "kernelspec": {
      "display_name": "Python 3",
      "name": "python3"
    },
    "language_info": {
      "name": "python"
    }
  },
  "nbformat": 4,
  "nbformat_minor": 0
}