{
  "cells": [
    {
      "cell_type": "markdown",
      "metadata": {
        "id": "view-in-github",
        "colab_type": "text"
      },
      "source": [
        "<a href=\"https://colab.research.google.com/github/Neural-Team/HiggsBoson-ML/blob/main/Logistic_Regression_Model.ipynb\" target=\"_parent\"><img src=\"https://colab.research.google.com/assets/colab-badge.svg\" alt=\"Open In Colab\"/></a>"
      ]
    },
    {
      "cell_type": "markdown",
      "source": [],
      "metadata": {
        "id": "Byih5VIf-LDJ"
      }
    },
    {
      "cell_type": "code",
      "source": [
        "from google.colab import drive\n",
        "drive.mount('/content/drive')"
      ],
      "metadata": {
        "id": "5McfuvsIdOQH",
        "colab": {
          "base_uri": "https://localhost:8080/"
        },
        "outputId": "0418a85a-0a13-4591-c522-5d7379e575d0"
      },
      "execution_count": 156,
      "outputs": [
        {
          "output_type": "stream",
          "name": "stdout",
          "text": [
            "Drive already mounted at /content/drive; to attempt to forcibly remount, call drive.mount(\"/content/drive\", force_remount=True).\n"
          ]
        }
      ]
    },
    {
      "cell_type": "code",
      "execution_count": 157,
      "metadata": {
        "id": "X_p7Pwn4547v"
      },
      "outputs": [],
      "source": [
        "import pandas as pd\n",
        "import numpy as np\n",
        "import matplotlib.pyplot as plt\n",
        "import seaborn as sns\n",
        "\n",
        "high_level_features = ('m_jj', 'm_jjj', 'm_lv', 'm_jlv', 'm_bb', 'm_wbb', 'm_wwbb')                              #7 high level features\n",
        "\n",
        "low_level_features = ('lepton_pT', 'lepton_eta', 'lepton_phi', 'missing_energy_magnitude', 'missing_energy_phi', #21 low level features\n",
        "                    'jet_1_pt', 'jet_1_eta', 'jet_1_phi', 'jet_1_b-tag',\n",
        "                    'jet_2_pt', 'jet_2_eta', 'jet_2_phi', 'jet_2_b-tag',\n",
        "                    'jet_3_pt', 'jet_3_eta', 'jet_3_phi', 'jet_3_b-tag',\n",
        "                    'jet_4_pt', 'jet_4_eta', 'jet_4_phi', 'jet_4_b-tag')\n",
        "\n",
        "all_features = low_level_features + high_level_features  #all 28 features\n",
        "\n",
        "csv_file = \"/content/drive/My Drive/Dataset/HIGGS_train.csv\"\n",
        "dataset = pd.read_csv(csv_file, low_memory = False, names = tuple(['class']) + all_features)"
      ]
    },
    {
      "cell_type": "code",
      "source": [
        "#Clean data\n",
        "\n",
        "# Convert strings to float\n",
        "dataset = dataset.apply(pd.to_numeric, errors = 'coerce')\n",
        "\n",
        "# Remove rows with non-float entries\n",
        "dataset = dataset.dropna()"
      ],
      "metadata": {
        "id": "SUI9EJsD-Miq"
      },
      "execution_count": 158,
      "outputs": []
    },
    {
      "cell_type": "code",
      "source": [
        "NUMBER_OF_LOW_LEVEL_FEATURES = len(low_level_features)\n",
        "\n",
        "# choose between low_level_features, high_level_features, \n",
        "# or all_features depending on what features you would like to use\n",
        "model_features = all_features \n",
        "\n",
        "# create X and y sets\n",
        "if ( model_features == all_features ):\n",
        "  X = dataset.iloc[:, 1:]\n",
        "elif ( model_features == low_level_features ):\n",
        "  X = dataset.iloc[:, 1:NUMBER_OF_LOW_LEVEL_FEATURES + 1]\n",
        "elif ( model_features == high_level_features ):\n",
        "  X = dataset.iloc[:, NUMBER_OF_LOW_LEVEL_FEATURES + 1:]\n",
        "\n",
        "y = dataset.iloc[:, 0]"
      ],
      "metadata": {
        "id": "yUGNWZDYGTh-"
      },
      "execution_count": 159,
      "outputs": []
    },
    {
      "cell_type": "code",
      "source": [
        "from sklearn.preprocessing import StandardScaler\n",
        "\n",
        "# Normalize (scale) the data\n",
        "scaler = StandardScaler()\n",
        "X = pd.DataFrame( scaler.fit_transform(X), columns = model_features )\n",
        "# causes errors"
      ],
      "metadata": {
        "id": "w6vbRR4yxmFh"
      },
      "execution_count": 160,
      "outputs": []
    },
    {
      "cell_type": "code",
      "execution_count": 161,
      "metadata": {
        "id": "t1V7vLTp5470",
        "colab": {
          "base_uri": "https://localhost:8080/",
          "height": 938
        },
        "outputId": "4d4dd0e3-be5e-4cb5-85ad-3bcd5b52dece"
      },
      "outputs": [
        {
          "output_type": "stream",
          "name": "stdout",
          "text": [
            "<class 'pandas.core.frame.DataFrame'>\n",
            "RangeIndex: 599996 entries, 0 to 599995\n",
            "Data columns (total 28 columns):\n",
            " #   Column                    Non-Null Count   Dtype  \n",
            "---  ------                    --------------   -----  \n",
            " 0   lepton_pT                 599996 non-null  float64\n",
            " 1   lepton_eta                599996 non-null  float64\n",
            " 2   lepton_phi                599996 non-null  float64\n",
            " 3   missing_energy_magnitude  599996 non-null  float64\n",
            " 4   missing_energy_phi        599996 non-null  float64\n",
            " 5   jet_1_pt                  599996 non-null  float64\n",
            " 6   jet_1_eta                 599996 non-null  float64\n",
            " 7   jet_1_phi                 599996 non-null  float64\n",
            " 8   jet_1_b-tag               599996 non-null  float64\n",
            " 9   jet_2_pt                  599996 non-null  float64\n",
            " 10  jet_2_eta                 599996 non-null  float64\n",
            " 11  jet_2_phi                 599996 non-null  float64\n",
            " 12  jet_2_b-tag               599996 non-null  float64\n",
            " 13  jet_3_pt                  599996 non-null  float64\n",
            " 14  jet_3_eta                 599996 non-null  float64\n",
            " 15  jet_3_phi                 599996 non-null  float64\n",
            " 16  jet_3_b-tag               599996 non-null  float64\n",
            " 17  jet_4_pt                  599996 non-null  float64\n",
            " 18  jet_4_eta                 599996 non-null  float64\n",
            " 19  jet_4_phi                 599996 non-null  float64\n",
            " 20  jet_4_b-tag               599996 non-null  float64\n",
            " 21  m_jj                      599996 non-null  float64\n",
            " 22  m_jjj                     599996 non-null  float64\n",
            " 23  m_lv                      599996 non-null  float64\n",
            " 24  m_jlv                     599996 non-null  float64\n",
            " 25  m_bb                      599996 non-null  float64\n",
            " 26  m_wbb                     599996 non-null  float64\n",
            " 27  m_wwbb                    599996 non-null  float64\n",
            "dtypes: float64(28)\n",
            "memory usage: 128.2 MB\n"
          ]
        },
        {
          "output_type": "execute_result",
          "data": {
            "text/plain": [
              "1.0    317568\n",
              "0.0    282428\n",
              "Name: class, dtype: int64"
            ]
          },
          "metadata": {},
          "execution_count": 161
        },
        {
          "output_type": "display_data",
          "data": {
            "text/plain": [
              "<Figure size 432x288 with 1 Axes>"
            ],
            "image/png": "[encoded data removed]"
          },
          "metadata": {
            "needs_background": "light"
          }
        }
      ],
      "source": [
        "#Data analysis\n",
        "X.info()\n",
        "\n",
        "#check distribution of data\n",
        "sns.countplot(data = dataset, x = 'class')\n",
        "dataset['class'].value_counts()"
      ]
    },
    {
      "cell_type": "code",
      "execution_count": 162,
      "metadata": {
        "id": "3YVs7HyI5471",
        "colab": {
          "base_uri": "https://localhost:8080/",
          "height": 317
        },
        "outputId": "c2cb9937-94a1-48a8-ffa3-8d3d2df0418a"
      },
      "outputs": [
        {
          "output_type": "execute_result",
          "data": {
            "text/plain": [
              "   lepton_pT  lepton_eta  lepton_phi  missing_energy_magnitude  \\\n",
              "0        594         508        1462                      1129   \n",
              "1        633        1478        1595                      1852   \n",
              "2        524        2196          10                      1256   \n",
              "3        759         266        2172                      1901   \n",
              "4        736        1470        2288                      1685   \n",
              "\n",
              "   missing_energy_phi  jet_1_pt  jet_1_eta  jet_1_phi  jet_1_b-tag  jet_2_pt  \\\n",
              "0                 384       605        948         65            0       848   \n",
              "1                 761       861        639         15            2       624   \n",
              "2                4893       861       2227       2274            0       663   \n",
              "3                5349       930        132        132            0       953   \n",
              "4                  53       532        190        152            0       612   \n",
              "\n",
              "   ...  jet_4_eta  jet_4_phi  jet_4_b-tag  m_jj  m_jjj  m_lv  m_jlv  m_bb  \\\n",
              "0  ...       1158       1072            2   915    635   551    540   757   \n",
              "1  ...        136       1153            0   182    488   559    598   815   \n",
              "2  ...       2204       2136            0   790    666   559    571   838   \n",
              "3  ...        472         38            0   827    658   572    348   904   \n",
              "4  ...        776       1349            0   636    691   560    458  1048   \n",
              "\n",
              "   m_wbb  m_wwbb  \n",
              "0    631     478  \n",
              "1    634     399  \n",
              "2    508     381  \n",
              "3    645     559  \n",
              "4    514     409  \n",
              "\n",
              "[5 rows x 28 columns]"
            ],
            "text/html": [
              "\n",
              "  <div id=\"df-97f8180d-301b-43cb-b4a8-019a87cf4cdc\">\n",
              "    <div class=\"colab-df-container\">\n",
              "      <div>\n",
              "<style scoped>\n",
              "    .dataframe tbody tr th:only-of-type {\n",
              "        vertical-align: middle;\n",
              "    }\n",
              "\n",
              "    .dataframe tbody tr th {\n",
              "        vertical-align: top;\n",
              "    }\n",
              "\n",
              "    .dataframe thead th {\n",
              "        text-align: right;\n",
              "    }\n",
              "</style>\n",
              "<table border=\"1\" class=\"dataframe\">\n",
              "  <thead>\n",
              "    <tr style=\"text-align: right;\">\n",
              "      <th></th>\n",
              "      <th>lepton_pT</th>\n",
              "      <th>lepton_eta</th>\n",
              "      <th>lepton_phi</th>\n",
              "      <th>missing_energy_magnitude</th>\n",
              "      <th>missing_energy_phi</th>\n",
              "      <th>jet_1_pt</th>\n",
              "      <th>jet_1_eta</th>\n",
              "      <th>jet_1_phi</th>\n",
              "      <th>jet_1_b-tag</th>\n",
              "      <th>jet_2_pt</th>\n",
              "      <th>...</th>\n",
              "      <th>jet_4_eta</th>\n",
              "      <th>jet_4_phi</th>\n",
              "      <th>jet_4_b-tag</th>\n",
              "      <th>m_jj</th>\n",
              "      <th>m_jjj</th>\n",
              "      <th>m_lv</th>\n",
              "      <th>m_jlv</th>\n",
              "      <th>m_bb</th>\n",
              "      <th>m_wbb</th>\n",
              "      <th>m_wwbb</th>\n",
              "    </tr>\n",
              "  </thead>\n",
              "  <tbody>\n",
              "    <tr>\n",
              "      <th>0</th>\n",
              "      <td>594</td>\n",
              "      <td>508</td>\n",
              "      <td>1462</td>\n",
              "      <td>1129</td>\n",
              "      <td>384</td>\n",
              "      <td>605</td>\n",
              "      <td>948</td>\n",
              "      <td>65</td>\n",
              "      <td>0</td>\n",
              "      <td>848</td>\n",
              "      <td>...</td>\n",
              "      <td>1158</td>\n",
              "      <td>1072</td>\n",
              "      <td>2</td>\n",
              "      <td>915</td>\n",
              "      <td>635</td>\n",
              "      <td>551</td>\n",
              "      <td>540</td>\n",
              "      <td>757</td>\n",
              "      <td>631</td>\n",
              "      <td>478</td>\n",
              "    </tr>\n",
              "    <tr>\n",
              "      <th>1</th>\n",
              "      <td>633</td>\n",
              "      <td>1478</td>\n",
              "      <td>1595</td>\n",
              "      <td>1852</td>\n",
              "      <td>761</td>\n",
              "      <td>861</td>\n",
              "      <td>639</td>\n",
              "      <td>15</td>\n",
              "      <td>2</td>\n",
              "      <td>624</td>\n",
              "      <td>...</td>\n",
              "      <td>136</td>\n",
              "      <td>1153</td>\n",
              "      <td>0</td>\n",
              "      <td>182</td>\n",
              "      <td>488</td>\n",
              "      <td>559</td>\n",
              "      <td>598</td>\n",
              "      <td>815</td>\n",
              "      <td>634</td>\n",
              "      <td>399</td>\n",
              "    </tr>\n",
              "    <tr>\n",
              "      <th>2</th>\n",
              "      <td>524</td>\n",
              "      <td>2196</td>\n",
              "      <td>10</td>\n",
              "      <td>1256</td>\n",
              "      <td>4893</td>\n",
              "      <td>861</td>\n",
              "      <td>2227</td>\n",
              "      <td>2274</td>\n",
              "      <td>0</td>\n",
              "      <td>663</td>\n",
              "      <td>...</td>\n",
              "      <td>2204</td>\n",
              "      <td>2136</td>\n",
              "      <td>0</td>\n",
              "      <td>790</td>\n",
              "      <td>666</td>\n",
              "      <td>559</td>\n",
              "      <td>571</td>\n",
              "      <td>838</td>\n",
              "      <td>508</td>\n",
              "      <td>381</td>\n",
              "    </tr>\n",
              "    <tr>\n",
              "      <th>3</th>\n",
              "      <td>759</td>\n",
              "      <td>266</td>\n",
              "      <td>2172</td>\n",
              "      <td>1901</td>\n",
              "      <td>5349</td>\n",
              "      <td>930</td>\n",
              "      <td>132</td>\n",
              "      <td>132</td>\n",
              "      <td>0</td>\n",
              "      <td>953</td>\n",
              "      <td>...</td>\n",
              "      <td>472</td>\n",
              "      <td>38</td>\n",
              "      <td>0</td>\n",
              "      <td>827</td>\n",
              "      <td>658</td>\n",
              "      <td>572</td>\n",
              "      <td>348</td>\n",
              "      <td>904</td>\n",
              "      <td>645</td>\n",
              "      <td>559</td>\n",
              "    </tr>\n",
              "    <tr>\n",
              "      <th>4</th>\n",
              "      <td>736</td>\n",
              "      <td>1470</td>\n",
              "      <td>2288</td>\n",
              "      <td>1685</td>\n",
              "      <td>53</td>\n",
              "      <td>532</td>\n",
              "      <td>190</td>\n",
              "      <td>152</td>\n",
              "      <td>0</td>\n",
              "      <td>612</td>\n",
              "      <td>...</td>\n",
              "      <td>776</td>\n",
              "      <td>1349</td>\n",
              "      <td>0</td>\n",
              "      <td>636</td>\n",
              "      <td>691</td>\n",
              "      <td>560</td>\n",
              "      <td>458</td>\n",
              "      <td>1048</td>\n",
              "      <td>514</td>\n",
              "      <td>409</td>\n",
              "    </tr>\n",
              "  </tbody>\n",
              "</table>\n",
              "<p>5 rows × 28 columns</p>\n",
              "</div>\n",
              "      <button class=\"colab-df-convert\" onclick=\"convertToInteractive('df-97f8180d-301b-43cb-b4a8-019a87cf4cdc')\"\n",
              "              title=\"Convert this dataframe to an interactive table.\"\n",
              "              style=\"display:none;\">\n",
              "        \n",
              "  <svg xmlns=\"http://www.w3.org/2000/svg\" height=\"24px\"viewBox=\"0 0 24 24\"\n",
              "       width=\"24px\">\n",
              "    <path d=\"M0 0h24v24H0V0z\" fill=\"none\"/>\n",
              "    <path d=\"M18.56 5.44l.94 2.06.94-2.06 2.06-.94-2.06-.94-.94-2.06-.94 2.06-2.06.94zm-11 1L8.5 8.5l.94-2.06 2.06-.94-2.06-.94L8.5 2.5l-.94 2.06-2.06.94zm10 10l.94 2.06.94-2.06 2.06-.94-2.06-.94-.94-2.06-.94 2.06-2.06.94z\"/><path d=\"M17.41 7.96l-1.37-1.37c-.4-.4-.92-.59-1.43-.59-.52 0-1.04.2-1.43.59L10.3 9.45l-7.72 7.72c-.78.78-.78 2.05 0 2.83L4 21.41c.39.39.9.59 1.41.59.51 0 1.02-.2 1.41-.59l7.78-7.78 2.81-2.81c.8-.78.8-2.07 0-2.86zM5.41 20L4 18.59l7.72-7.72 1.47 1.35L5.41 20z\"/>\n",
              "  </svg>\n",
              "      </button>\n",
              "      \n",
              "  <style>\n",
              "    .colab-df-container {\n",
              "      display:flex;\n",
              "      flex-wrap:wrap;\n",
              "      gap: 12px;\n",
              "    }\n",
              "\n",
              "    .colab-df-convert {\n",
              "      background-color: #E8F0FE;\n",
              "      border: none;\n",
              "      border-radius: 50%;\n",
              "      cursor: pointer;\n",
              "      display: none;\n",
              "      fill: #1967D2;\n",
              "      height: 32px;\n",
              "      padding: 0 0 0 0;\n",
              "      width: 32px;\n",
              "    }\n",
              "\n",
              "    .colab-df-convert:hover {\n",
              "      background-color: #E2EBFA;\n",
              "      box-shadow: 0px 1px 2px rgba(60, 64, 67, 0.3), 0px 1px 3px 1px rgba(60, 64, 67, 0.15);\n",
              "      fill: #174EA6;\n",
              "    }\n",
              "\n",
              "    [theme=dark] .colab-df-convert {\n",
              "      background-color: #3B4455;\n",
              "      fill: #D2E3FC;\n",
              "    }\n",
              "\n",
              "    [theme=dark] .colab-df-convert:hover {\n",
              "      background-color: #434B5C;\n",
              "      box-shadow: 0px 1px 3px 1px rgba(0, 0, 0, 0.15);\n",
              "      filter: drop-shadow(0px 1px 2px rgba(0, 0, 0, 0.3));\n",
              "      fill: #FFFFFF;\n",
              "    }\n",
              "  </style>\n",
              "\n",
              "      <script>\n",
              "        const buttonEl =\n",
              "          document.querySelector('#df-97f8180d-301b-43cb-b4a8-019a87cf4cdc button.colab-df-convert');\n",
              "        buttonEl.style.display =\n",
              "          google.colab.kernel.accessAllowed ? 'block' : 'none';\n",
              "\n",
              "        async function convertToInteractive(key) {\n",
              "          const element = document.querySelector('#df-97f8180d-301b-43cb-b4a8-019a87cf4cdc');\n",
              "          const dataTable =\n",
              "            await google.colab.kernel.invokeFunction('convertToInteractive',\n",
              "                                                     [key], {});\n",
              "          if (!dataTable) return;\n",
              "\n",
              "          const docLinkHtml = 'Like what you see? Visit the ' +\n",
              "            '<a target=\"_blank\" href=https://colab.research.google.com/notebooks/data_table.ipynb>data table notebook</a>'\n",
              "            + ' to learn more about interactive tables.';\n",
              "          element.innerHTML = '';\n",
              "          dataTable['output_type'] = 'display_data';\n",
              "          await google.colab.output.renderOutput(dataTable, element);\n",
              "          const docLink = document.createElement('div');\n",
              "          docLink.innerHTML = docLinkHtml;\n",
              "          element.appendChild(docLink);\n",
              "        }\n",
              "      </script>\n",
              "    </div>\n",
              "  </div>\n",
              "  "
            ]
          },
          "metadata": {},
          "execution_count": 162
        }
      ],
      "source": [
        "#Encoding\n",
        "from sklearn import preprocessing\n",
        "\n",
        "label_encoder = preprocessing.LabelEncoder()\n",
        "\n",
        "for i in model_features:\n",
        "    X[i] = label_encoder.fit_transform(X[i])\n",
        "\n",
        "X.head()"
      ]
    },
    {
      "cell_type": "code",
      "execution_count": 163,
      "metadata": {
        "id": "qiNXh0me5471"
      },
      "outputs": [],
      "source": [
        "#Split data\n",
        "from sklearn.model_selection import train_test_split\n",
        "\n",
        "X_train, X_test, y_train, y_test = train_test_split(X, y, test_size=0.3, random_state=2) \n",
        "#TO-DO: EXPERIMENT WITH TEST/TRAINING SPLITS"
      ]
    },
    {
      "cell_type": "code",
      "execution_count": 164,
      "metadata": {
        "id": "XBJ0zBdX5472"
      },
      "outputs": [],
      "source": [
        "from sklearn.linear_model import LogisticRegression\n",
        "\n",
        "lr_model = LogisticRegression(max_iter = 5000)\n",
        "lr_model.fit(X_train, y_train)\n",
        "\n",
        "y_pred = lr_model.predict(X_test)"
      ]
    },
    {
      "cell_type": "code",
      "source": [
        "#Testing vs Training accuracy \n",
        "from sklearn import metrics \n",
        "from sklearn.metrics import classification_report, confusion_matrix\n",
        "\n",
        "testing_accuracy = lr_model.score(X_test, y_test)*100\n",
        "training_accuracy = lr_model.score(X_train, y_train)*100\n",
        "print(\"testing accuracy: {:.2f}%\".format(testing_accuracy))\n",
        "print(\"training accuracy: {:.2f}%\".format(training_accuracy))"
      ],
      "metadata": {
        "id": "E28t6pKDA3x5",
        "colab": {
          "base_uri": "https://localhost:8080/"
        },
        "outputId": "1e6c41e3-792a-437e-b13d-8fa7c1fe783d"
      },
      "execution_count": 165,
      "outputs": [
        {
          "output_type": "stream",
          "name": "stdout",
          "text": [
            "testing accuracy: 63.07%\n",
            "training accuracy: 62.92%\n"
          ]
        }
      ]
    },
    {
      "cell_type": "code",
      "source": [
        "#Testing data: Classification report and Confusion matrix\n",
        "matrix = confusion_matrix(y_test, y_pred)\n",
        "sns.heatmap(matrix, annot = True, fmt = \"d\")\n",
        "plt.title('Confusion Matrix')\n",
        "plt.xlabel('Predicted')\n",
        "plt.ylabel('Actual')\n",
        "\n",
        "#LOW LEVEL SEEMS TO HAVE VERY DIFFERENT CONFUSION MATRIX THAN HIGH LEVEL\n",
        "print(classification_report(y_test, y_pred))"
      ],
      "metadata": {
        "id": "LaPhAqVNCEKS",
        "colab": {
          "base_uri": "https://localhost:8080/",
          "height": 451
        },
        "outputId": "d71f421a-40fe-4772-8f97-123238ac9ff4"
      },
      "execution_count": 166,
      "outputs": [
        {
          "output_type": "stream",
          "name": "stdout",
          "text": [
            "              precision    recall  f1-score   support\n",
            "\n",
            "         0.0       0.62      0.55      0.59     84523\n",
            "         1.0       0.64      0.70      0.67     95476\n",
            "\n",
            "    accuracy                           0.63    179999\n",
            "   macro avg       0.63      0.63      0.63    179999\n",
            "weighted avg       0.63      0.63      0.63    179999\n",
            "\n"
          ]
        },
        {
          "output_type": "display_data",
          "data": {
            "text/plain": [
              "<Figure size 432x288 with 2 Axes>"
            ],
            "image/png": "[encoded data removed]"
          },
          "metadata": {
            "needs_background": "light"
          }
        }
      ]
    }
  ],
  "metadata": {
    "kernelspec": {
      "display_name": "Python 3",
      "language": "python",
      "name": "python3"
    },
    "language_info": {
      "codemirror_mode": {
        "name": "ipython",
        "version": 3
      },
      "file_extension": ".py",
      "mimetype": "text/x-python",
      "name": "python",
      "nbconvert_exporter": "python",
      "pygments_lexer": "ipython3",
      "version": "3.11.2"
    },
    "orig_nbformat": 4,
    "colab": {
      "provenance": [],
      "include_colab_link": true
    }
  },
  "nbformat": 4,
  "nbformat_minor": 0
}